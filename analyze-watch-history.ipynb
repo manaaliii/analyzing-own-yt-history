{
 "cells": [
  {
   "cell_type": "code",
   "execution_count": 136,
   "outputs": [],
   "source": [
    "import pandas as pd\n",
    "import re"
   ],
   "metadata": {
    "collapsed": false,
    "pycharm": {
     "name": "#%%\n"
    }
   }
  },
  {
   "cell_type": "code",
   "execution_count": 138,
   "outputs": [
    {
     "data": {
      "text/plain": "                                             Video Title  \\\n8462   Eren made hange's worst nightmare come true #a...   \n3106      #shorts When tanjiro found nezuko Alive !!!!!!   \n11938  Fullmetal Alchemist: Brotherhood - \"Shunkan Se...   \n2201   Sia - Cheap Thrills (Official Lyric Video) ft....   \n4363   Mocha’s plotting her revenge about now 😂 #shor...   \n7646   If You're an Introvert - WATCH THIS | by Jay S...   \n8989    Pureit Copper RO – Sehat Mubarak 20sec (English)   \n5726                                      16x9 UAC F&O 2   \n3386   I Got Negative Tests But I Was Pregnant 😳 #shorts   \n2387                   WHEN YOU SEE A “NO DUMPING” SIGN!   \n\n                                         Video URL     Youtube Creator  \\\n8462   https://www.youtube.com/watch?v=F7OjlJ6o-GA           Animepeak   \n3106   https://www.youtube.com/watch?v=MnF7yremco4       Anime funterz   \n11938  https://www.youtube.com/watch?v=aI0XVHNrpEg  LeeandLie (AmaLee)   \n2201   https://www.youtube.com/watch?v=nYh-n7EOtMA             SiaVEVO   \n4363   https://www.youtube.com/watch?v=gQuPUm1mLlU           Mocha Pom   \n7646   https://www.youtube.com/watch?v=Y0aq4xHmG4k          Jay Shetty   \n8989   https://www.youtube.com/watch?v=34HSZWlJ8tQ                 NaN   \n5726   https://www.youtube.com/watch?v=Ysrv6rhZamo                 NaN   \n3386   https://www.youtube.com/watch?v=Z6s_9rBsP4M       Jordanna Lamb   \n2387   https://www.youtube.com/watch?v=8r8mHuy8FVo             BwaJack   \n\n                                          YT Creator URL  Is Ad  \\\n8462   https://www.youtube.com/channel/UCq2kyy5H5yKkD...  False   \n3106   https://www.youtube.com/channel/UCV1TQIk50lDSp...  False   \n11938  https://www.youtube.com/channel/UC8THb_fnOptyV...  False   \n2201   https://www.youtube.com/channel/UCmKdSrwf1e8co...  False   \n4363   https://www.youtube.com/channel/UCXTImOeex-KW2...  False   \n7646   https://www.youtube.com/channel/UCbV60AGIHKz2x...  False   \n8989                                                 NaN   True   \n5726                                                 NaN   True   \n3386   https://www.youtube.com/channel/UCHOjfc9IlPPlI...  False   \n2387   https://www.youtube.com/channel/UCRjvaqLNbo1LO...  False   \n\n                            Time  \n8462   27 May 2022, 12:28:24 IST  \n3106    8 Nov 2022, 19:40:46 IST  \n11938   9 Aug 2021, 16:46:38 IST  \n2201   25 Dec 2022, 22:32:00 IST  \n4363    3 Oct 2022, 11:56:16 IST  \n7646   24 Jun 2022, 11:31:21 IST  \n8989   13 May 2022, 12:47:32 IST  \n5726   17 Aug 2022, 15:01:21 IST  \n3386   27 Oct 2022, 10:20:26 IST  \n2387   12 Dec 2022, 09:24:34 IST  ",
      "text/html": "<div>\n<style scoped>\n    .dataframe tbody tr th:only-of-type {\n        vertical-align: middle;\n    }\n\n    .dataframe tbody tr th {\n        vertical-align: top;\n    }\n\n    .dataframe thead th {\n        text-align: right;\n    }\n</style>\n<table border=\"1\" class=\"dataframe\">\n  <thead>\n    <tr style=\"text-align: right;\">\n      <th></th>\n      <th>Video Title</th>\n      <th>Video URL</th>\n      <th>Youtube Creator</th>\n      <th>YT Creator URL</th>\n      <th>Is Ad</th>\n      <th>Time</th>\n    </tr>\n  </thead>\n  <tbody>\n    <tr>\n      <th>8462</th>\n      <td>Eren made hange's worst nightmare come true #a...</td>\n      <td>https://www.youtube.com/watch?v=F7OjlJ6o-GA</td>\n      <td>Animepeak</td>\n      <td>https://www.youtube.com/channel/UCq2kyy5H5yKkD...</td>\n      <td>False</td>\n      <td>27 May 2022, 12:28:24 IST</td>\n    </tr>\n    <tr>\n      <th>3106</th>\n      <td>#shorts When tanjiro found nezuko Alive !!!!!!</td>\n      <td>https://www.youtube.com/watch?v=MnF7yremco4</td>\n      <td>Anime funterz</td>\n      <td>https://www.youtube.com/channel/UCV1TQIk50lDSp...</td>\n      <td>False</td>\n      <td>8 Nov 2022, 19:40:46 IST</td>\n    </tr>\n    <tr>\n      <th>11938</th>\n      <td>Fullmetal Alchemist: Brotherhood - \"Shunkan Se...</td>\n      <td>https://www.youtube.com/watch?v=aI0XVHNrpEg</td>\n      <td>LeeandLie (AmaLee)</td>\n      <td>https://www.youtube.com/channel/UC8THb_fnOptyV...</td>\n      <td>False</td>\n      <td>9 Aug 2021, 16:46:38 IST</td>\n    </tr>\n    <tr>\n      <th>2201</th>\n      <td>Sia - Cheap Thrills (Official Lyric Video) ft....</td>\n      <td>https://www.youtube.com/watch?v=nYh-n7EOtMA</td>\n      <td>SiaVEVO</td>\n      <td>https://www.youtube.com/channel/UCmKdSrwf1e8co...</td>\n      <td>False</td>\n      <td>25 Dec 2022, 22:32:00 IST</td>\n    </tr>\n    <tr>\n      <th>4363</th>\n      <td>Mocha’s plotting her revenge about now 😂 #shor...</td>\n      <td>https://www.youtube.com/watch?v=gQuPUm1mLlU</td>\n      <td>Mocha Pom</td>\n      <td>https://www.youtube.com/channel/UCXTImOeex-KW2...</td>\n      <td>False</td>\n      <td>3 Oct 2022, 11:56:16 IST</td>\n    </tr>\n    <tr>\n      <th>7646</th>\n      <td>If You're an Introvert - WATCH THIS | by Jay S...</td>\n      <td>https://www.youtube.com/watch?v=Y0aq4xHmG4k</td>\n      <td>Jay Shetty</td>\n      <td>https://www.youtube.com/channel/UCbV60AGIHKz2x...</td>\n      <td>False</td>\n      <td>24 Jun 2022, 11:31:21 IST</td>\n    </tr>\n    <tr>\n      <th>8989</th>\n      <td>Pureit Copper RO – Sehat Mubarak 20sec (English)</td>\n      <td>https://www.youtube.com/watch?v=34HSZWlJ8tQ</td>\n      <td>NaN</td>\n      <td>NaN</td>\n      <td>True</td>\n      <td>13 May 2022, 12:47:32 IST</td>\n    </tr>\n    <tr>\n      <th>5726</th>\n      <td>16x9 UAC F&amp;O 2</td>\n      <td>https://www.youtube.com/watch?v=Ysrv6rhZamo</td>\n      <td>NaN</td>\n      <td>NaN</td>\n      <td>True</td>\n      <td>17 Aug 2022, 15:01:21 IST</td>\n    </tr>\n    <tr>\n      <th>3386</th>\n      <td>I Got Negative Tests But I Was Pregnant 😳 #shorts</td>\n      <td>https://www.youtube.com/watch?v=Z6s_9rBsP4M</td>\n      <td>Jordanna Lamb</td>\n      <td>https://www.youtube.com/channel/UCHOjfc9IlPPlI...</td>\n      <td>False</td>\n      <td>27 Oct 2022, 10:20:26 IST</td>\n    </tr>\n    <tr>\n      <th>2387</th>\n      <td>WHEN YOU SEE A “NO DUMPING” SIGN!</td>\n      <td>https://www.youtube.com/watch?v=8r8mHuy8FVo</td>\n      <td>BwaJack</td>\n      <td>https://www.youtube.com/channel/UCRjvaqLNbo1LO...</td>\n      <td>False</td>\n      <td>12 Dec 2022, 09:24:34 IST</td>\n    </tr>\n  </tbody>\n</table>\n</div>"
     },
     "execution_count": 138,
     "metadata": {},
     "output_type": "execute_result"
    }
   ],
   "source": [
    "\n",
    "pd.set_option('display.max_columns', None)\n",
    "\n",
    "data = pd.read_csv('trail1.csv')\n",
    "\n",
    "data.sample(10)"
   ],
   "metadata": {
    "collapsed": false,
    "pycharm": {
     "name": "#%%\n"
    }
   }
  },
  {
   "cell_type": "code",
   "execution_count": 139,
   "outputs": [
    {
     "name": "stdout",
     "output_type": "stream",
     "text": [
      "<class 'pandas.core.frame.DataFrame'>\n",
      "RangeIndex: 12624 entries, 0 to 12623\n",
      "Data columns (total 6 columns):\n",
      " #   Column           Non-Null Count  Dtype \n",
      "---  ------           --------------  ----- \n",
      " 0   Video Title      12624 non-null  object\n",
      " 1   Video URL        12624 non-null  object\n",
      " 2   Youtube Creator  10908 non-null  object\n",
      " 3   YT Creator URL   10909 non-null  object\n",
      " 4   Is Ad            12624 non-null  bool  \n",
      " 5   Time             12624 non-null  object\n",
      "dtypes: bool(1), object(5)\n",
      "memory usage: 505.6+ KB\n"
     ]
    }
   ],
   "source": [
    "data.info()"
   ],
   "metadata": {
    "collapsed": false,
    "pycharm": {
     "name": "#%%\n"
    }
   }
  },
  {
   "cell_type": "code",
   "execution_count": 140,
   "outputs": [
    {
     "data": {
      "text/plain": "                                     Video Title  \\\n3586        Look What Taylor Swift Made Ellen Do   \n1022  Mom rating my girlfriend’s accent😂 #Shorts   \n807      Top 5 most viewed web series😱 !!#shorts   \n\n                                        Video URL Youtube Creator  \\\n3586  https://www.youtube.com/watch?v=VHbRCHXdNUQ    TheEllenShow   \n1022  https://www.youtube.com/watch?v=SDIHSK3lDaQ      mmmjoemele   \n807   https://www.youtube.com/watch?v=AJ__dKd5iR8   RahamanShorts   \n\n                                         YT Creator URL  Is Ad  \\\n3586  https://www.youtube.com/channel/UCp0hYYBW6IMay...  False   \n1022  https://www.youtube.com/channel/UClAa0YLrW4MaI...  False   \n807   https://www.youtube.com/channel/UCJ-tnVvBtogg6...  False   \n\n                           Time  \n3586  16 Oct 2022, 09:38:03 IST  \n1022   7 May 2023, 18:55:56 IST  \n807   19 May 2023, 14:23:10 IST  ",
      "text/html": "<div>\n<style scoped>\n    .dataframe tbody tr th:only-of-type {\n        vertical-align: middle;\n    }\n\n    .dataframe tbody tr th {\n        vertical-align: top;\n    }\n\n    .dataframe thead th {\n        text-align: right;\n    }\n</style>\n<table border=\"1\" class=\"dataframe\">\n  <thead>\n    <tr style=\"text-align: right;\">\n      <th></th>\n      <th>Video Title</th>\n      <th>Video URL</th>\n      <th>Youtube Creator</th>\n      <th>YT Creator URL</th>\n      <th>Is Ad</th>\n      <th>Time</th>\n    </tr>\n  </thead>\n  <tbody>\n    <tr>\n      <th>3586</th>\n      <td>Look What Taylor Swift Made Ellen Do</td>\n      <td>https://www.youtube.com/watch?v=VHbRCHXdNUQ</td>\n      <td>TheEllenShow</td>\n      <td>https://www.youtube.com/channel/UCp0hYYBW6IMay...</td>\n      <td>False</td>\n      <td>16 Oct 2022, 09:38:03 IST</td>\n    </tr>\n    <tr>\n      <th>1022</th>\n      <td>Mom rating my girlfriend’s accent😂 #Shorts</td>\n      <td>https://www.youtube.com/watch?v=SDIHSK3lDaQ</td>\n      <td>mmmjoemele</td>\n      <td>https://www.youtube.com/channel/UClAa0YLrW4MaI...</td>\n      <td>False</td>\n      <td>7 May 2023, 18:55:56 IST</td>\n    </tr>\n    <tr>\n      <th>807</th>\n      <td>Top 5 most viewed web series😱 !!#shorts</td>\n      <td>https://www.youtube.com/watch?v=AJ__dKd5iR8</td>\n      <td>RahamanShorts</td>\n      <td>https://www.youtube.com/channel/UCJ-tnVvBtogg6...</td>\n      <td>False</td>\n      <td>19 May 2023, 14:23:10 IST</td>\n    </tr>\n  </tbody>\n</table>\n</div>"
     },
     "execution_count": 140,
     "metadata": {},
     "output_type": "execute_result"
    }
   ],
   "source": [
    "history = data.copy()\n",
    "history.sample(3)"
   ],
   "metadata": {
    "collapsed": false,
    "pycharm": {
     "name": "#%%\n"
    }
   }
  },
  {
   "cell_type": "markdown",
   "source": [
    "transforming time col ( as there are some other string present with time in cell)"
   ],
   "metadata": {
    "collapsed": false,
    "pycharm": {
     "name": "#%% md\n"
    }
   }
  },
  {
   "cell_type": "code",
   "execution_count": 141,
   "outputs": [],
   "source": [
    "def ref_time(st):\n",
    "    date_time_pattern = r'\\b(?:0?[1-9]|[1-2][0-9]|3[01])\\s(?:Jan|Feb|Mar|Apr|May|Jun|Jul|Aug|Sep|Oct|Nov|Dec)\\s\\d{4},\\s\\d{2}:\\d{2}:\\d{2}\\s\\w+\\b'\n",
    "    st = st.strip()\n",
    "    matches = re.findall(date_time_pattern, st)\n",
    "\n",
    "    if matches:\n",
    "        extracted_date_time = matches[0]\n",
    "        if extracted_date_time[0].isdigit() and extracted_date_time[1].isdigit():\n",
    "            if int(extracted_date_time[0:2]) > 30:\n",
    "                return extracted_date_time[1:]\n",
    "        return extracted_date_time\n",
    "\n",
    "    months = {\n",
    "        'Jan' : 31, 'Feb' : [28, 29], 'Mar': 31, 'Apr': 30, 'May': 31, 'Jun': 30, 'Aug':31, ' Se': 30, 'Oct':31, 'Nov':30, 'Dec':31}\n",
    "\n",
    "    if len(st) >= 26 and st[-26].isdigit():\n",
    "        if st[-25].isdigit():\n",
    "            cur = st[-24:-21]\n",
    "            date = int(st[-26:-24])\n",
    "            if cur != 'Feb':\n",
    "                if  date <= months[cur]:\n",
    "                        return st[-26:]\n",
    "            else:\n",
    "                yr = int(st[-18:-14])\n",
    "                if (yr % 100 == 0 and yr % 4 == 0) or (yr % 100 != 0 and yr % 4 == 0):\n",
    "                    if date <= months['Feb'][1]:\n",
    "                        return st[-26:]\n",
    "                else:\n",
    "                    return st[-26:]\n",
    "    return st[-25:]\n",
    "\n",
    "\n",
    "\n",
    "history['Time'] = history['Time'].apply(ref_time)"
   ],
   "metadata": {
    "collapsed": false,
    "pycharm": {
     "name": "#%%\n"
    }
   }
  },
  {
   "cell_type": "code",
   "execution_count": 142,
   "outputs": [
    {
     "data": {
      "text/plain": "                                             Video Title  \\\n0                      How to Download your YouTube Data   \n1      Farhan Akhtar ke bol, Farhan Akhtar ki awaaz m...   \n2      🎙️ From Syria to Revolutionising Men's Groomin...   \n3                              MOVING TO DUBAI | Vlog #0   \n4      Python Project to Scrape YouTube using YouTube...   \n...                                                  ...   \n12619                             10$ Drum Vs 1000$ Drum   \n12620  Kokila Ben | First World Problems | Dialogue w...   \n12621  Mehul Choksi, Zakir Naik gave donation to Raji...   \n12622  Prime Minister Narendra Modi's Mann Ki Baat wi...   \n12623  2020 | The Worst Year | Depression Helpline by...   \n\n                                         Video URL         Youtube Creator  \\\n0      https://www.youtube.com/watch?v=5CGgqJWh7wo           Buzz2day Tech   \n1      https://www.youtube.com/watch?v=fP-WXYk1wVc                     NaN   \n2      https://www.youtube.com/watch?v=ekcgdD_q7bU            Sonny Sangha   \n3      https://www.youtube.com/watch?v=hP1V5wehdEU            Sonny Sangha   \n4      https://www.youtube.com/watch?v=SwSbnmqk3zY                 techTFQ   \n...                                            ...                     ...   \n12619  https://www.youtube.com/watch?v=FnY_R0ZUGGM              Big Marvel   \n12620  https://www.youtube.com/watch?v=SjhBeIz1tDI         Yashraj Mukhate   \n12621  https://www.youtube.com/watch?v=9JbrEW1A0xY  Bharatiya Janata Party   \n12622  https://www.youtube.com/watch?v=OgafNvdpGHI           Narendra Modi   \n12623  https://www.youtube.com/watch?v=PWoF5xIEJXM            Harman Singh   \n\n                                          YT Creator URL  Is Ad  \\\n0      https://www.youtube.com/channel/UCSaA50dPTKM4X...  False   \n1                                                    NaN   True   \n2      https://www.youtube.com/channel/UCqeTj_QAnNlmt...  False   \n3      https://www.youtube.com/channel/UCqeTj_QAnNlmt...  False   \n4      https://www.youtube.com/channel/UCnz-ZXXER4jOv...  False   \n...                                                  ...    ...   \n12619  https://www.youtube.com/channel/UCgI8VzlDGsHCp...  False   \n12620  https://www.youtube.com/channel/UCBZQAxIn4Mxc2...  False   \n12621  https://www.youtube.com/channel/UCrwE8kVqtIUVU...  False   \n12622  https://www.youtube.com/channel/UC1NF71EwP41Vd...  False   \n12623  https://www.youtube.com/channel/UC0rpxsHBn1j3k...  False   \n\n                            Time  \n0      23 Jul 2023, 19:20:17 IST  \n1      23 Jul 2023, 19:17:10 IST  \n2      23 Jul 2023, 19:15:09 IST  \n3      23 Jul 2023, 19:15:00 IST  \n4      23 Jul 2023, 19:12:48 IST  \n...                          ...  \n12619   1 Aug 2020, 17:30:17 IST  \n12620   1 Aug 2020, 17:28:14 IST  \n12621   1 Aug 2020, 16:21:46 IST  \n12622   1 Aug 2020, 14:39:49 IST  \n12623  16 Jun 2020, 20:17:32 IST  \n\n[12624 rows x 6 columns]",
      "text/html": "<div>\n<style scoped>\n    .dataframe tbody tr th:only-of-type {\n        vertical-align: middle;\n    }\n\n    .dataframe tbody tr th {\n        vertical-align: top;\n    }\n\n    .dataframe thead th {\n        text-align: right;\n    }\n</style>\n<table border=\"1\" class=\"dataframe\">\n  <thead>\n    <tr style=\"text-align: right;\">\n      <th></th>\n      <th>Video Title</th>\n      <th>Video URL</th>\n      <th>Youtube Creator</th>\n      <th>YT Creator URL</th>\n      <th>Is Ad</th>\n      <th>Time</th>\n    </tr>\n  </thead>\n  <tbody>\n    <tr>\n      <th>0</th>\n      <td>How to Download your YouTube Data</td>\n      <td>https://www.youtube.com/watch?v=5CGgqJWh7wo</td>\n      <td>Buzz2day Tech</td>\n      <td>https://www.youtube.com/channel/UCSaA50dPTKM4X...</td>\n      <td>False</td>\n      <td>23 Jul 2023, 19:20:17 IST</td>\n    </tr>\n    <tr>\n      <th>1</th>\n      <td>Farhan Akhtar ke bol, Farhan Akhtar ki awaaz m...</td>\n      <td>https://www.youtube.com/watch?v=fP-WXYk1wVc</td>\n      <td>NaN</td>\n      <td>NaN</td>\n      <td>True</td>\n      <td>23 Jul 2023, 19:17:10 IST</td>\n    </tr>\n    <tr>\n      <th>2</th>\n      <td>🎙️ From Syria to Revolutionising Men's Groomin...</td>\n      <td>https://www.youtube.com/watch?v=ekcgdD_q7bU</td>\n      <td>Sonny Sangha</td>\n      <td>https://www.youtube.com/channel/UCqeTj_QAnNlmt...</td>\n      <td>False</td>\n      <td>23 Jul 2023, 19:15:09 IST</td>\n    </tr>\n    <tr>\n      <th>3</th>\n      <td>MOVING TO DUBAI | Vlog #0</td>\n      <td>https://www.youtube.com/watch?v=hP1V5wehdEU</td>\n      <td>Sonny Sangha</td>\n      <td>https://www.youtube.com/channel/UCqeTj_QAnNlmt...</td>\n      <td>False</td>\n      <td>23 Jul 2023, 19:15:00 IST</td>\n    </tr>\n    <tr>\n      <th>4</th>\n      <td>Python Project to Scrape YouTube using YouTube...</td>\n      <td>https://www.youtube.com/watch?v=SwSbnmqk3zY</td>\n      <td>techTFQ</td>\n      <td>https://www.youtube.com/channel/UCnz-ZXXER4jOv...</td>\n      <td>False</td>\n      <td>23 Jul 2023, 19:12:48 IST</td>\n    </tr>\n    <tr>\n      <th>...</th>\n      <td>...</td>\n      <td>...</td>\n      <td>...</td>\n      <td>...</td>\n      <td>...</td>\n      <td>...</td>\n    </tr>\n    <tr>\n      <th>12619</th>\n      <td>10$ Drum Vs 1000$ Drum</td>\n      <td>https://www.youtube.com/watch?v=FnY_R0ZUGGM</td>\n      <td>Big Marvel</td>\n      <td>https://www.youtube.com/channel/UCgI8VzlDGsHCp...</td>\n      <td>False</td>\n      <td>1 Aug 2020, 17:30:17 IST</td>\n    </tr>\n    <tr>\n      <th>12620</th>\n      <td>Kokila Ben | First World Problems | Dialogue w...</td>\n      <td>https://www.youtube.com/watch?v=SjhBeIz1tDI</td>\n      <td>Yashraj Mukhate</td>\n      <td>https://www.youtube.com/channel/UCBZQAxIn4Mxc2...</td>\n      <td>False</td>\n      <td>1 Aug 2020, 17:28:14 IST</td>\n    </tr>\n    <tr>\n      <th>12621</th>\n      <td>Mehul Choksi, Zakir Naik gave donation to Raji...</td>\n      <td>https://www.youtube.com/watch?v=9JbrEW1A0xY</td>\n      <td>Bharatiya Janata Party</td>\n      <td>https://www.youtube.com/channel/UCrwE8kVqtIUVU...</td>\n      <td>False</td>\n      <td>1 Aug 2020, 16:21:46 IST</td>\n    </tr>\n    <tr>\n      <th>12622</th>\n      <td>Prime Minister Narendra Modi's Mann Ki Baat wi...</td>\n      <td>https://www.youtube.com/watch?v=OgafNvdpGHI</td>\n      <td>Narendra Modi</td>\n      <td>https://www.youtube.com/channel/UC1NF71EwP41Vd...</td>\n      <td>False</td>\n      <td>1 Aug 2020, 14:39:49 IST</td>\n    </tr>\n    <tr>\n      <th>12623</th>\n      <td>2020 | The Worst Year | Depression Helpline by...</td>\n      <td>https://www.youtube.com/watch?v=PWoF5xIEJXM</td>\n      <td>Harman Singh</td>\n      <td>https://www.youtube.com/channel/UC0rpxsHBn1j3k...</td>\n      <td>False</td>\n      <td>16 Jun 2020, 20:17:32 IST</td>\n    </tr>\n  </tbody>\n</table>\n<p>12624 rows × 6 columns</p>\n</div>"
     },
     "execution_count": 142,
     "metadata": {},
     "output_type": "execute_result"
    }
   ],
   "source": [
    "history"
   ],
   "metadata": {
    "collapsed": false,
    "pycharm": {
     "name": "#%%\n"
    }
   }
  },
  {
   "cell_type": "code",
   "execution_count": 143,
   "outputs": [
    {
     "data": {
      "text/plain": "array(['23 Jul 2023, 19:20:17 IST', '23 Jul 2023, 19:17:10 IST',\n       '23 Jul 2023, 19:15:09 IST', ..., '1 Aug 2020, 16:21:46 IST',\n       '1 Aug 2020, 14:39:49 IST', '16 Jun 2020, 20:17:32 IST'],\n      dtype=object)"
     },
     "execution_count": 143,
     "metadata": {},
     "output_type": "execute_result"
    }
   ],
   "source": [
    "history['Time'].unique()"
   ],
   "metadata": {
    "collapsed": false,
    "pycharm": {
     "name": "#%%\n"
    }
   }
  },
  {
   "cell_type": "code",
   "execution_count": 144,
   "outputs": [
    {
     "data": {
      "text/plain": "                                            Video Title  \\\n6634  Attendance Video with a twist 😄 #names #teache...   \n8251                                              VAMOS   \n5618        How To Open Seat lock Without key in Activa   \n8313  06s_Video_Networking_SandboxCreativeSEM_EN 108...   \n2873         WHEN SOMEONE TEXTS YOU IN THE WRONG TIMING   \n\n                                        Video URL      Youtube Creator  \\\n6634  https://www.youtube.com/watch?v=iF5eUTLQvaM            BC Aunty    \n8251  https://www.youtube.com/watch?v=hZDRxVOLE2M              VamosZn   \n5618  https://www.youtube.com/watch?v=bl6JdW9sKCA  Hacker Boy Niranjan   \n8313  https://www.youtube.com/watch?v=pIvqcPiEYR0                  NaN   \n2873  https://www.youtube.com/watch?v=6wOOaz7sXYU        Jooj Natu ENG   \n\n                                         YT Creator URL  Is Ad  \\\n6634  https://www.youtube.com/channel/UCtS9JPpDeMkjJ...  False   \n8251  https://www.youtube.com/channel/UC8p93-RaG4SZW...  False   \n5618  https://www.youtube.com/channel/UC742t4GBTZvuU...  False   \n8313                                                NaN   True   \n2873  https://www.youtube.com/channel/UCDit-dp02_yDs...  False   \n\n                           Time  \n6634  25 Jul 2022, 12:51:54 IST  \n8251   9 Jun 2022, 16:38:34 IST  \n5618  26 Aug 2022, 18:45:29 IST  \n8313   6 Jun 2022, 14:30:53 IST  \n2873  16 Nov 2022, 20:45:15 IST  ",
      "text/html": "<div>\n<style scoped>\n    .dataframe tbody tr th:only-of-type {\n        vertical-align: middle;\n    }\n\n    .dataframe tbody tr th {\n        vertical-align: top;\n    }\n\n    .dataframe thead th {\n        text-align: right;\n    }\n</style>\n<table border=\"1\" class=\"dataframe\">\n  <thead>\n    <tr style=\"text-align: right;\">\n      <th></th>\n      <th>Video Title</th>\n      <th>Video URL</th>\n      <th>Youtube Creator</th>\n      <th>YT Creator URL</th>\n      <th>Is Ad</th>\n      <th>Time</th>\n    </tr>\n  </thead>\n  <tbody>\n    <tr>\n      <th>6634</th>\n      <td>Attendance Video with a twist 😄 #names #teache...</td>\n      <td>https://www.youtube.com/watch?v=iF5eUTLQvaM</td>\n      <td>BC Aunty</td>\n      <td>https://www.youtube.com/channel/UCtS9JPpDeMkjJ...</td>\n      <td>False</td>\n      <td>25 Jul 2022, 12:51:54 IST</td>\n    </tr>\n    <tr>\n      <th>8251</th>\n      <td>VAMOS</td>\n      <td>https://www.youtube.com/watch?v=hZDRxVOLE2M</td>\n      <td>VamosZn</td>\n      <td>https://www.youtube.com/channel/UC8p93-RaG4SZW...</td>\n      <td>False</td>\n      <td>9 Jun 2022, 16:38:34 IST</td>\n    </tr>\n    <tr>\n      <th>5618</th>\n      <td>How To Open Seat lock Without key in Activa</td>\n      <td>https://www.youtube.com/watch?v=bl6JdW9sKCA</td>\n      <td>Hacker Boy Niranjan</td>\n      <td>https://www.youtube.com/channel/UC742t4GBTZvuU...</td>\n      <td>False</td>\n      <td>26 Aug 2022, 18:45:29 IST</td>\n    </tr>\n    <tr>\n      <th>8313</th>\n      <td>06s_Video_Networking_SandboxCreativeSEM_EN 108...</td>\n      <td>https://www.youtube.com/watch?v=pIvqcPiEYR0</td>\n      <td>NaN</td>\n      <td>NaN</td>\n      <td>True</td>\n      <td>6 Jun 2022, 14:30:53 IST</td>\n    </tr>\n    <tr>\n      <th>2873</th>\n      <td>WHEN SOMEONE TEXTS YOU IN THE WRONG TIMING</td>\n      <td>https://www.youtube.com/watch?v=6wOOaz7sXYU</td>\n      <td>Jooj Natu ENG</td>\n      <td>https://www.youtube.com/channel/UCDit-dp02_yDs...</td>\n      <td>False</td>\n      <td>16 Nov 2022, 20:45:15 IST</td>\n    </tr>\n  </tbody>\n</table>\n</div>"
     },
     "execution_count": 144,
     "metadata": {},
     "output_type": "execute_result"
    }
   ],
   "source": [
    "history.sample(5)"
   ],
   "metadata": {
    "collapsed": false,
    "pycharm": {
     "name": "#%%\n"
    }
   }
  },
  {
   "cell_type": "code",
   "execution_count": 145,
   "outputs": [
    {
     "name": "stdout",
     "output_type": "stream",
     "text": [
      "<class 'pandas.core.frame.DataFrame'>\n",
      "RangeIndex: 12624 entries, 0 to 12623\n",
      "Data columns (total 6 columns):\n",
      " #   Column           Non-Null Count  Dtype \n",
      "---  ------           --------------  ----- \n",
      " 0   Video Title      12624 non-null  object\n",
      " 1   Video URL        12624 non-null  object\n",
      " 2   Youtube Creator  10908 non-null  object\n",
      " 3   YT Creator URL   10909 non-null  object\n",
      " 4   Is Ad            12624 non-null  bool  \n",
      " 5   Time             12624 non-null  object\n",
      "dtypes: bool(1), object(5)\n",
      "memory usage: 505.6+ KB\n"
     ]
    }
   ],
   "source": [
    "history.info()"
   ],
   "metadata": {
    "collapsed": false,
    "pycharm": {
     "name": "#%%\n"
    }
   }
  },
  {
   "cell_type": "code",
   "execution_count": 146,
   "outputs": [
    {
     "data": {
      "text/plain": "0        23 Jul 2023, 19:20:17 IST\n1        23 Jul 2023, 19:17:10 IST\n2        23 Jul 2023, 19:15:09 IST\n3        23 Jul 2023, 19:15:00 IST\n4        23 Jul 2023, 19:12:48 IST\n                   ...            \n12619     1 Aug 2020, 17:30:17 IST\n12620     1 Aug 2020, 17:28:14 IST\n12621     1 Aug 2020, 16:21:46 IST\n12622     1 Aug 2020, 14:39:49 IST\n12623    16 Jun 2020, 20:17:32 IST\nName: Time, Length: 12624, dtype: object"
     },
     "execution_count": 146,
     "metadata": {},
     "output_type": "execute_result"
    }
   ],
   "source": [
    "history['Time']"
   ],
   "metadata": {
    "collapsed": false,
    "pycharm": {
     "name": "#%%\n"
    }
   }
  },
  {
   "cell_type": "markdown",
   "source": [
    "Most Watched Video"
   ],
   "metadata": {
    "collapsed": false,
    "pycharm": {
     "name": "#%% md\n"
    }
   }
  },
  {
   "cell_type": "code",
   "execution_count": 147,
   "outputs": [
    {
     "name": "stdout",
     "output_type": "stream",
     "text": [
      "Most Common Video URL: https://www.youtube.com/watch?v=xGPjonxrUYc\n",
      "Video Title:  Hardwell Live at Ultra Music Festival Miami 2017\n",
      "Count: 31\n"
     ]
    }
   ],
   "source": [
    "video_counts = history['Video URL'].value_counts()\n",
    "\n",
    "most_common_video_url = video_counts.idxmax()\n",
    "highest_count = video_counts.max()\n",
    "most_common_video_rows = history[history['Video URL'] == most_common_video_url]\n",
    "\n",
    "print(\"Most Common Video URL:\", most_common_video_url)\n",
    "print(\"Video Title: \", most_common_video_rows.iloc[0]['Video Title'])\n",
    "print(\"Count:\", highest_count)"
   ],
   "metadata": {
    "collapsed": false,
    "pycharm": {
     "name": "#%%\n"
    }
   }
  },
  {
   "cell_type": "raw",
   "source": [
    "Top 5 most watched videos"
   ],
   "metadata": {
    "collapsed": false,
    "pycharm": {
     "name": "#%% raw\n"
    }
   }
  },
  {
   "cell_type": "code",
   "execution_count": 148,
   "outputs": [
    {
     "name": "stdout",
     "output_type": "stream",
     "text": [
      "         Youtube Creator                                        Video Title\n",
      "491             Hardwell   Hardwell Live at Ultra Music Festival Miami 2017\n",
      "512             Hardwell   Hardwell LIVE at Ultra Music Festival Miami 2018\n",
      "739      Nightblue Music  Warriyo - Mortals (feat. Laura Brehm) (ELPORT ...\n",
      "7214          Capital FM  Taylor Swift - ‘...Ready For It?’ (Live At Cap...\n",
      "8628  LeeandLie (AmaLee)  Sword Art Online - \"Crossing Field\" (REMIX) | ...\n"
     ]
    }
   ],
   "source": [
    "top_5_videos = video_counts.nlargest(5)\n",
    "\n",
    "top_5_rows = history[history['Video URL'].isin(top_5_videos.index)]\n",
    "\n",
    "unique_videos = top_5_rows.drop_duplicates(subset=['Video URL', 'Video Title', 'Youtube Creator'])\n",
    "\n",
    "print(unique_videos[['Youtube Creator', 'Video Title']])"
   ],
   "metadata": {
    "collapsed": false,
    "pycharm": {
     "name": "#%%\n"
    }
   }
  },
  {
   "cell_type": "markdown",
   "source": [
    "Most watched videos of yt creator"
   ],
   "metadata": {
    "collapsed": false,
    "pycharm": {
     "name": "#%% md\n"
    }
   }
  },
  {
   "cell_type": "code",
   "execution_count": 149,
   "outputs": [
    {
     "name": "stdout",
     "output_type": "stream",
     "text": [
      "Most watched yt creator: TheMermaidscales\n",
      "Video Count: 345\n"
     ]
    }
   ],
   "source": [
    "creator_counts = history['Youtube Creator'].value_counts()\n",
    "\n",
    "most_watched_yt_creator = creator_counts.idxmax()\n",
    "highest_count = creator_counts.max()\n",
    "\n",
    "print(\"Most watched yt creator:\", most_watched_yt_creator)\n",
    "print(\"Video Count:\", highest_count)"
   ],
   "metadata": {
    "collapsed": false,
    "pycharm": {
     "name": "#%%\n"
    }
   }
  },
  {
   "cell_type": "raw",
   "source": [
    "Top 5 creators"
   ],
   "metadata": {
    "collapsed": false,
    "pycharm": {
     "name": "#%% raw\n"
    }
   }
  },
  {
   "cell_type": "code",
   "execution_count": 150,
   "outputs": [
    {
     "name": "stdout",
     "output_type": "stream",
     "text": [
      "TheMermaidscales    345\n",
      "CodeWithHarry       337\n",
      "Gate Smashers       168\n",
      "Capital FM          119\n",
      "Aditya Verma        109\n",
      "Name: Youtube Creator, dtype: int64\n"
     ]
    }
   ],
   "source": [
    "top_5_creators = creator_counts.nlargest(5)\n",
    "\n",
    "\n",
    "print(top_5_creators)"
   ],
   "metadata": {
    "collapsed": false,
    "pycharm": {
     "name": "#%%\n"
    }
   }
  },
  {
   "cell_type": "code",
   "execution_count": 151,
   "outputs": [
    {
     "name": "stdout",
     "output_type": "stream",
     "text": [
      "     Youtube Creator                                        Video Title  \\\n",
      "0       Aditya Verma                           4 01Knapsack Memoization   \n",
      "1       Aditya Verma                   Delete Middle Element of a Stack   \n",
      "2       Aditya Verma                              13 Unbounded Knapsack   \n",
      "3       Aditya Verma    15  Coin change problem: Maximum number of ways   \n",
      "4       Aditya Verma           19  Longest common subsequence Recursive   \n",
      "5         Capital FM  Taylor Swift - ‘...Ready For It?’ (Live At Cap...   \n",
      "6         Capital FM  Zara Larsson - 'Lush Life' (Live At The Summer...   \n",
      "7         Capital FM  Ariana Grande - 'Bang Bang' (Live At Capitals ...   \n",
      "8         Capital FM  Taylor Swift - You Need to Calm Down (Live at ...   \n",
      "9         Capital FM  Zara Larsson - ‘Lush Life’  (Live at Capital’s...   \n",
      "10     CodeWithHarry  Component Structure of our NewsMonkey React Ap...   \n",
      "11     CodeWithHarry  Creating our first react app using create-reac...   \n",
      "12     CodeWithHarry  Fixing Issues & Wrapping up TextUtils | Comple...   \n",
      "13     CodeWithHarry  Project 2 Setup + Introduction to Class based ...   \n",
      "14     CodeWithHarry  React Router Setup + Usage | Complete React Co...   \n",
      "15     Gate Smashers     L-1.11: Process Vs Threads in Operating System   \n",
      "16     Gate Smashers  Lec-48: Division Operation in Relational Algeb...   \n",
      "17     Gate Smashers  Lec-79: Why View Serializability is Used | Int...   \n",
      "18     Gate Smashers  L-1.12: User Level Vs Kernel Level Thread in O...   \n",
      "19     Gate Smashers  L-1.3: Multiprogramming and Multitasking Opera...   \n",
      "20  TheMermaidscales                    Short girls when they are alone   \n",
      "21  TheMermaidscales                          When you pretend to sleep   \n",
      "22  TheMermaidscales                     *Final destination flashbacks*   \n",
      "23  TheMermaidscales                                                  .   \n",
      "24  TheMermaidscales                       11yo me using correction pen   \n",
      "\n",
      "    Watch Count  \n",
      "0             3  \n",
      "1             3  \n",
      "2             2  \n",
      "3             2  \n",
      "4             2  \n",
      "5            25  \n",
      "6            17  \n",
      "7            16  \n",
      "8             9  \n",
      "9             9  \n",
      "10            4  \n",
      "11            4  \n",
      "12            4  \n",
      "13            4  \n",
      "14            4  \n",
      "15            3  \n",
      "16            3  \n",
      "17            3  \n",
      "18            2  \n",
      "19            2  \n",
      "20            2  \n",
      "21            2  \n",
      "22            1  \n",
      "23            1  \n",
      "24            1  \n"
     ]
    }
   ],
   "source": [
    "top_videos_by_top_creators = history[history['Youtube Creator'].isin(top_5_creators.index)]\n",
    "\n",
    "top_videos_by_creator_title = top_videos_by_top_creators.groupby(['Youtube Creator', 'Video Title']).size()\n",
    "\n",
    "top_videos_by_creator_title = top_videos_by_creator_title.reset_index(name='Watch Count')\n",
    "top_5_videos_by_creator = top_videos_by_creator_title.groupby('Youtube Creator').apply(lambda x: x.nlargest(5, 'Watch Count')).reset_index(drop=True)\n",
    "print(top_5_videos_by_creator)"
   ],
   "metadata": {
    "collapsed": false,
    "pycharm": {
     "name": "#%%\n"
    }
   }
  },
  {
   "cell_type": "code",
   "execution_count": 152,
   "outputs": [],
   "source": [
    "from nltk.tokenize import word_tokenize\n",
    "# import nltk\n",
    "from collections import Counter\n",
    "from nltk.corpus import stopwords"
   ],
   "metadata": {
    "collapsed": false,
    "pycharm": {
     "name": "#%%\n"
    }
   }
  },
  {
   "cell_type": "code",
   "execution_count": 153,
   "outputs": [],
   "source": [
    "# nltk.download('punkt')\n",
    "# nltk.download('stopwords')"
   ],
   "metadata": {
    "collapsed": false,
    "pycharm": {
     "name": "#%%\n"
    }
   }
  },
  {
   "cell_type": "code",
   "execution_count": 154,
   "outputs": [],
   "source": [
    "\n",
    "# Convert the text column to lowercase\n",
    "history['Video Title'] = history['Video Title'].str.lower()\n",
    "history['Video Title'] = history['Video Title'].str.replace('[^\\w\\s]', '', regex=True)\n",
    "\n",
    "keywords = history['Video Title'].apply(word_tokenize)\n",
    "stop_words = set(stopwords.words('english'))"
   ],
   "metadata": {
    "collapsed": false,
    "pycharm": {
     "name": "#%%\n"
    }
   }
  },
  {
   "cell_type": "code",
   "execution_count": 155,
   "outputs": [
    {
     "data": {
      "text/plain": "0                 [how, to, download, your, youtube, data]\n1        [farhan, akhtar, ke, bol, farhan, akhtar, ki, ...\n2        [from, syria, to, revolutionising, mens, groom...\n3                             [moving, to, dubai, vlog, 0]\n4        [python, project, to, scrape, youtube, using, ...\n                               ...                        \n12619                           [10, drum, vs, 1000, drum]\n12620    [kokila, ben, first, world, problems, dialogue...\n12621    [mehul, choksi, zakir, naik, gave, donation, t...\n12622    [prime, minister, narendra, modis, mann, ki, b...\n12623    [2020, the, worst, year, depression, helpline,...\nName: Video Title, Length: 12624, dtype: object"
     },
     "execution_count": 155,
     "metadata": {},
     "output_type": "execute_result"
    }
   ],
   "source": [
    "keywords"
   ],
   "metadata": {
    "collapsed": false,
    "pycharm": {
     "name": "#%%\n"
    }
   }
  },
  {
   "cell_type": "code",
   "execution_count": 156,
   "outputs": [],
   "source": [
    "all_keywords = [token for sublist in keywords for token in sublist if token not in stop_words]\n",
    "\n",
    "cnt = Counter(all_keywords)"
   ],
   "metadata": {
    "collapsed": false,
    "pycharm": {
     "name": "#%%\n"
    }
   }
  },
  {
   "cell_type": "code",
   "execution_count": 157,
   "outputs": [
    {
     "name": "stdout",
     "output_type": "stream",
     "text": [
      "Top 5 recurring topics in title: \n",
      "     Keyword  Count\n",
      "107   shorts   1613\n",
      "324    hindi    496\n",
      "108    anime    444\n",
      "96      live    432\n",
      "135  english    414\n"
     ]
    }
   ],
   "source": [
    "keywords_df = pd.DataFrame(cnt.items(), columns=['Keyword', 'Count'])\n",
    "\n",
    "\n",
    "keywords_df = keywords_df.sort_values(by='Count', ascending=False)\n",
    "\n",
    "print(\"Top 5 recurring topics in title: \")\n",
    "print(keywords_df.head(5))"
   ],
   "metadata": {
    "collapsed": false,
    "pycharm": {
     "name": "#%%\n"
    }
   }
  },
  {
   "cell_type": "code",
   "execution_count": 109,
   "outputs": [],
   "source": [],
   "metadata": {
    "collapsed": false,
    "pycharm": {
     "name": "#%%\n"
    }
   }
  },
  {
   "cell_type": "code",
   "execution_count": null,
   "outputs": [],
   "source": [],
   "metadata": {
    "collapsed": false,
    "pycharm": {
     "name": "#%%\n"
    }
   }
  }
 ],
 "metadata": {
  "kernelspec": {
   "display_name": "Python 3",
   "language": "python",
   "name": "python3"
  },
  "language_info": {
   "codemirror_mode": {
    "name": "ipython",
    "version": 2
   },
   "file_extension": ".py",
   "mimetype": "text/x-python",
   "name": "python",
   "nbconvert_exporter": "python",
   "pygments_lexer": "ipython2",
   "version": "2.7.6"
  }
 },
 "nbformat": 4,
 "nbformat_minor": 0
}
