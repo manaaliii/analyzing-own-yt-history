{
 "cells": [
  {
   "cell_type": "code",
   "execution_count": 2,
   "outputs": [],
   "source": [
    "import pandas as pd\n",
    "import re"
   ],
   "metadata": {
    "collapsed": false,
    "pycharm": {
     "name": "#%%\n"
    }
   }
  },
  {
   "cell_type": "code",
   "execution_count": 88,
   "outputs": [
    {
     "data": {
      "text/plain": "                                             Video Title  \\\n1587   Yor pays for Pizza #anime #spyxfamily #yorforg...   \n2153   [Free] Building + Hosting React App For free o...   \n11846  Surjective (onto) and injective (one-to-one) f...   \n3280   Drawing Yor Forger in Spy x Family #yorforger ...   \n12461  Haan Main Jitni Martaba | All The Best | Ajay ...   \n11058                                          Imagine..   \n7731   CSS Tutorial: Variables & Custom Properties | ...   \n6555   Convert Low-Res Graphic to High-Res in Photosh...   \n12582  #PressPLAY | How I ACCIDENTALLY Remade Eurodan...   \n11837  Arrays And Pointer Arithmetic In C: C Tutorial...   \n\n                                         Video URL     Youtube Creator  \\\n1587   https://www.youtube.com/watch?v=j9vJt3llrHE           KingChris   \n2153   https://www.youtube.com/watch?v=Fi75tq9JikI       CodeWithHarry   \n11846  https://www.youtube.com/watch?v=xKNX8BUWR0g        Khan Academy   \n3280   https://www.youtube.com/watch?v=o_vL7Dtpywc  Draw so easy Anime   \n12461  https://www.youtube.com/watch?v=7eyLjlJH9fw           A.K Music   \n11058  https://www.youtube.com/watch?v=6lKIh1aaCL0   [Anime] ZoneEdits   \n7731   https://www.youtube.com/watch?v=ghlm_94oR90       CodeWithHarry   \n6555   https://www.youtube.com/watch?v=I58HzUhQ3W8        PiXimperfect   \n12582  https://www.youtube.com/watch?v=aI19eFOw7qY              Vories   \n11837  https://www.youtube.com/watch?v=RhLSYjDXB4Q       CodeWithHarry   \n\n                                          YT Creator URL  Is Ad  \\\n1587   https://www.youtube.com/channel/UCu-pLexbz0lzA...  False   \n2153   https://www.youtube.com/channel/UCeVMnSShP_Ivi...  False   \n11846  https://www.youtube.com/channel/UC4a-Gbdw7vOac...  False   \n3280   https://www.youtube.com/channel/UCNPAJgjON65Fa...  False   \n12461  https://www.youtube.com/channel/UCfHKS0-m8zC7U...  False   \n11058  https://www.youtube.com/channel/UCWyUHSSq9sElv...  False   \n7731   https://www.youtube.com/channel/UCeVMnSShP_Ivi...  False   \n6555   https://www.youtube.com/channel/UCMrvLMUITAImC...  False   \n12582  https://www.youtube.com/channel/UCmxmYvWPHQ2KO...  False   \n11837  https://www.youtube.com/channel/UCeVMnSShP_Ivi...  False   \n\n                            Time  \n1587   12 Mar 2023, 17:07:58 IST  \n2153    6 Jan 2023, 10:49:18 IST  \n11846  27 Aug 2021, 10:23:35 IST  \n3280    4 Nov 2022, 23:50:40 IST  \n12461   9 Mar 2021, 17:26:05 IST  \n11058   9 Feb 2022, 18:24:42 IST  \n7731   21 Jun 2022, 08:13:28 IST  \n6555   26 Jul 2022, 18:16:34 IST  \n12582  21 Dec 2020, 12:56:10 IST  \n11837  28 Aug 2021, 22:49:08 IST  ",
      "text/html": "<div>\n<style scoped>\n    .dataframe tbody tr th:only-of-type {\n        vertical-align: middle;\n    }\n\n    .dataframe tbody tr th {\n        vertical-align: top;\n    }\n\n    .dataframe thead th {\n        text-align: right;\n    }\n</style>\n<table border=\"1\" class=\"dataframe\">\n  <thead>\n    <tr style=\"text-align: right;\">\n      <th></th>\n      <th>Video Title</th>\n      <th>Video URL</th>\n      <th>Youtube Creator</th>\n      <th>YT Creator URL</th>\n      <th>Is Ad</th>\n      <th>Time</th>\n    </tr>\n  </thead>\n  <tbody>\n    <tr>\n      <th>1587</th>\n      <td>Yor pays for Pizza #anime #spyxfamily #yorforg...</td>\n      <td>https://www.youtube.com/watch?v=j9vJt3llrHE</td>\n      <td>KingChris</td>\n      <td>https://www.youtube.com/channel/UCu-pLexbz0lzA...</td>\n      <td>False</td>\n      <td>12 Mar 2023, 17:07:58 IST</td>\n    </tr>\n    <tr>\n      <th>2153</th>\n      <td>[Free] Building + Hosting React App For free o...</td>\n      <td>https://www.youtube.com/watch?v=Fi75tq9JikI</td>\n      <td>CodeWithHarry</td>\n      <td>https://www.youtube.com/channel/UCeVMnSShP_Ivi...</td>\n      <td>False</td>\n      <td>6 Jan 2023, 10:49:18 IST</td>\n    </tr>\n    <tr>\n      <th>11846</th>\n      <td>Surjective (onto) and injective (one-to-one) f...</td>\n      <td>https://www.youtube.com/watch?v=xKNX8BUWR0g</td>\n      <td>Khan Academy</td>\n      <td>https://www.youtube.com/channel/UC4a-Gbdw7vOac...</td>\n      <td>False</td>\n      <td>27 Aug 2021, 10:23:35 IST</td>\n    </tr>\n    <tr>\n      <th>3280</th>\n      <td>Drawing Yor Forger in Spy x Family #yorforger ...</td>\n      <td>https://www.youtube.com/watch?v=o_vL7Dtpywc</td>\n      <td>Draw so easy Anime</td>\n      <td>https://www.youtube.com/channel/UCNPAJgjON65Fa...</td>\n      <td>False</td>\n      <td>4 Nov 2022, 23:50:40 IST</td>\n    </tr>\n    <tr>\n      <th>12461</th>\n      <td>Haan Main Jitni Martaba | All The Best | Ajay ...</td>\n      <td>https://www.youtube.com/watch?v=7eyLjlJH9fw</td>\n      <td>A.K Music</td>\n      <td>https://www.youtube.com/channel/UCfHKS0-m8zC7U...</td>\n      <td>False</td>\n      <td>9 Mar 2021, 17:26:05 IST</td>\n    </tr>\n    <tr>\n      <th>11058</th>\n      <td>Imagine..</td>\n      <td>https://www.youtube.com/watch?v=6lKIh1aaCL0</td>\n      <td>[Anime] ZoneEdits</td>\n      <td>https://www.youtube.com/channel/UCWyUHSSq9sElv...</td>\n      <td>False</td>\n      <td>9 Feb 2022, 18:24:42 IST</td>\n    </tr>\n    <tr>\n      <th>7731</th>\n      <td>CSS Tutorial: Variables &amp; Custom Properties | ...</td>\n      <td>https://www.youtube.com/watch?v=ghlm_94oR90</td>\n      <td>CodeWithHarry</td>\n      <td>https://www.youtube.com/channel/UCeVMnSShP_Ivi...</td>\n      <td>False</td>\n      <td>21 Jun 2022, 08:13:28 IST</td>\n    </tr>\n    <tr>\n      <th>6555</th>\n      <td>Convert Low-Res Graphic to High-Res in Photosh...</td>\n      <td>https://www.youtube.com/watch?v=I58HzUhQ3W8</td>\n      <td>PiXimperfect</td>\n      <td>https://www.youtube.com/channel/UCMrvLMUITAImC...</td>\n      <td>False</td>\n      <td>26 Jul 2022, 18:16:34 IST</td>\n    </tr>\n    <tr>\n      <th>12582</th>\n      <td>#PressPLAY | How I ACCIDENTALLY Remade Eurodan...</td>\n      <td>https://www.youtube.com/watch?v=aI19eFOw7qY</td>\n      <td>Vories</td>\n      <td>https://www.youtube.com/channel/UCmxmYvWPHQ2KO...</td>\n      <td>False</td>\n      <td>21 Dec 2020, 12:56:10 IST</td>\n    </tr>\n    <tr>\n      <th>11837</th>\n      <td>Arrays And Pointer Arithmetic In C: C Tutorial...</td>\n      <td>https://www.youtube.com/watch?v=RhLSYjDXB4Q</td>\n      <td>CodeWithHarry</td>\n      <td>https://www.youtube.com/channel/UCeVMnSShP_Ivi...</td>\n      <td>False</td>\n      <td>28 Aug 2021, 22:49:08 IST</td>\n    </tr>\n  </tbody>\n</table>\n</div>"
     },
     "execution_count": 88,
     "metadata": {},
     "output_type": "execute_result"
    }
   ],
   "source": [
    "\n",
    "pd.set_option('display.max_columns', None)\n",
    "\n",
    "data = pd.read_csv('trail1.csv')\n",
    "\n",
    "data.sample(10)"
   ],
   "metadata": {
    "collapsed": false,
    "pycharm": {
     "name": "#%%\n"
    }
   }
  },
  {
   "cell_type": "code",
   "execution_count": 4,
   "outputs": [
    {
     "name": "stdout",
     "output_type": "stream",
     "text": [
      "<class 'pandas.core.frame.DataFrame'>\n",
      "RangeIndex: 12624 entries, 0 to 12623\n",
      "Data columns (total 6 columns):\n",
      " #   Column           Non-Null Count  Dtype \n",
      "---  ------           --------------  ----- \n",
      " 0   Video Title      12624 non-null  object\n",
      " 1   Video URL        12624 non-null  object\n",
      " 2   Youtube Creator  10908 non-null  object\n",
      " 3   YT Creator URL   10909 non-null  object\n",
      " 4   Is Ad            12624 non-null  bool  \n",
      " 5   Time             12624 non-null  object\n",
      "dtypes: bool(1), object(5)\n",
      "memory usage: 505.6+ KB\n"
     ]
    }
   ],
   "source": [
    "data.info()"
   ],
   "metadata": {
    "collapsed": false,
    "pycharm": {
     "name": "#%%\n"
    }
   }
  },
  {
   "cell_type": "code",
   "execution_count": 5,
   "outputs": [
    {
     "data": {
      "text/plain": "                                             Video Title  \\\n3532   6.3 Merge Operation in Binomial Heaps | Advanc...   \n2435      220624_EN_The glow up after a breakup_Vertical   \n11554             How to Duplicate Diamonds in Minecraft   \n\n                                         Video URL     Youtube Creator  \\\n3532   https://www.youtube.com/watch?v=-82Wd64fxtw  Uzair Javed Akhtar   \n2435   https://www.youtube.com/watch?v=Cr5FtJWrgXI                 NaN   \n11554  https://www.youtube.com/watch?v=hR1I_WnSlT0            Mementoe   \n\n                                          YT Creator URL  Is Ad  \\\n3532   https://www.youtube.com/channel/UCOxgRflNQkRVT...  False   \n2435                                                 NaN   True   \n11554  https://www.youtube.com/channel/UCXhw8o3V525qX...  False   \n\n                            Time  \n3532   19 Oct 2022, 07:01:20 IST  \n2435    9 Dec 2022, 20:04:48 IST  \n11554  25 Nov 2021, 17:35:02 IST  ",
      "text/html": "<div>\n<style scoped>\n    .dataframe tbody tr th:only-of-type {\n        vertical-align: middle;\n    }\n\n    .dataframe tbody tr th {\n        vertical-align: top;\n    }\n\n    .dataframe thead th {\n        text-align: right;\n    }\n</style>\n<table border=\"1\" class=\"dataframe\">\n  <thead>\n    <tr style=\"text-align: right;\">\n      <th></th>\n      <th>Video Title</th>\n      <th>Video URL</th>\n      <th>Youtube Creator</th>\n      <th>YT Creator URL</th>\n      <th>Is Ad</th>\n      <th>Time</th>\n    </tr>\n  </thead>\n  <tbody>\n    <tr>\n      <th>3532</th>\n      <td>6.3 Merge Operation in Binomial Heaps | Advanc...</td>\n      <td>https://www.youtube.com/watch?v=-82Wd64fxtw</td>\n      <td>Uzair Javed Akhtar</td>\n      <td>https://www.youtube.com/channel/UCOxgRflNQkRVT...</td>\n      <td>False</td>\n      <td>19 Oct 2022, 07:01:20 IST</td>\n    </tr>\n    <tr>\n      <th>2435</th>\n      <td>220624_EN_The glow up after a breakup_Vertical</td>\n      <td>https://www.youtube.com/watch?v=Cr5FtJWrgXI</td>\n      <td>NaN</td>\n      <td>NaN</td>\n      <td>True</td>\n      <td>9 Dec 2022, 20:04:48 IST</td>\n    </tr>\n    <tr>\n      <th>11554</th>\n      <td>How to Duplicate Diamonds in Minecraft</td>\n      <td>https://www.youtube.com/watch?v=hR1I_WnSlT0</td>\n      <td>Mementoe</td>\n      <td>https://www.youtube.com/channel/UCXhw8o3V525qX...</td>\n      <td>False</td>\n      <td>25 Nov 2021, 17:35:02 IST</td>\n    </tr>\n  </tbody>\n</table>\n</div>"
     },
     "execution_count": 5,
     "metadata": {},
     "output_type": "execute_result"
    }
   ],
   "source": [
    "history = data.copy()\n",
    "history.sample(3)"
   ],
   "metadata": {
    "collapsed": false,
    "pycharm": {
     "name": "#%%\n"
    }
   }
  },
  {
   "cell_type": "markdown",
   "source": [
    "transforming time col ( as there are some other string present with time in cell)"
   ],
   "metadata": {
    "collapsed": false,
    "pycharm": {
     "name": "#%% md\n"
    }
   }
  },
  {
   "cell_type": "code",
   "execution_count": 6,
   "outputs": [],
   "source": [
    "def ref_time(st):\n",
    "    date_time_pattern = r'\\b(?:0?[1-9]|[1-2][0-9]|3[01])\\s(?:Jan|Feb|Mar|Apr|May|Jun|Jul|Aug|Sep|Oct|Nov|Dec)\\s\\d{4},\\s\\d{2}:\\d{2}:\\d{2}\\s\\w+\\b'\n",
    "    st = st.strip()\n",
    "    matches = re.findall(date_time_pattern, st)\n",
    "\n",
    "    if matches:\n",
    "        extracted_date_time = matches[0]\n",
    "        if extracted_date_time[0].isdigit() and extracted_date_time[1].isdigit():\n",
    "            if int(extracted_date_time[0:2]) > 30:\n",
    "                return extracted_date_time[1:]\n",
    "        return extracted_date_time\n",
    "\n",
    "    months = {\n",
    "        'Jan' : 31, 'Feb' : [28, 29], 'Mar': 31, 'Apr': 30, 'May': 31, 'Jun': 30, 'Aug':31, ' Se': 30, 'Oct':31, 'Nov':30, 'Dec':31}\n",
    "\n",
    "    if len(st) >= 26 and st[-26].isdigit():\n",
    "        if st[-25].isdigit():\n",
    "            cur = st[-24:-21]\n",
    "            date = int(st[-26:-24])\n",
    "            if cur != 'Feb':\n",
    "                if  date <= months[cur]:\n",
    "                        return st[-26:]\n",
    "            else:\n",
    "                yr = int(st[-18:-14])\n",
    "                if (yr % 100 == 0 and yr % 4 == 0) or (yr % 100 != 0 and yr % 4 == 0):\n",
    "                    if date <= months['Feb'][1]:\n",
    "                        return st[-26:]\n",
    "                else:\n",
    "                    return st[-26:]\n",
    "    return st[-25:]\n",
    "\n",
    "\n",
    "\n",
    "history['Time'] = history['Time'].apply(ref_time)"
   ],
   "metadata": {
    "collapsed": false,
    "pycharm": {
     "name": "#%%\n"
    }
   }
  },
  {
   "cell_type": "code",
   "execution_count": 7,
   "outputs": [
    {
     "data": {
      "text/plain": "                                             Video Title  \\\n0                      How to Download your YouTube Data   \n1      Farhan Akhtar ke bol, Farhan Akhtar ki awaaz m...   \n2      🎙️ From Syria to Revolutionising Men's Groomin...   \n3                              MOVING TO DUBAI | Vlog #0   \n4      Python Project to Scrape YouTube using YouTube...   \n...                                                  ...   \n12619                             10$ Drum Vs 1000$ Drum   \n12620  Kokila Ben | First World Problems | Dialogue w...   \n12621  Mehul Choksi, Zakir Naik gave donation to Raji...   \n12622  Prime Minister Narendra Modi's Mann Ki Baat wi...   \n12623  2020 | The Worst Year | Depression Helpline by...   \n\n                                         Video URL         Youtube Creator  \\\n0      https://www.youtube.com/watch?v=5CGgqJWh7wo           Buzz2day Tech   \n1      https://www.youtube.com/watch?v=fP-WXYk1wVc                     NaN   \n2      https://www.youtube.com/watch?v=ekcgdD_q7bU            Sonny Sangha   \n3      https://www.youtube.com/watch?v=hP1V5wehdEU            Sonny Sangha   \n4      https://www.youtube.com/watch?v=SwSbnmqk3zY                 techTFQ   \n...                                            ...                     ...   \n12619  https://www.youtube.com/watch?v=FnY_R0ZUGGM              Big Marvel   \n12620  https://www.youtube.com/watch?v=SjhBeIz1tDI         Yashraj Mukhate   \n12621  https://www.youtube.com/watch?v=9JbrEW1A0xY  Bharatiya Janata Party   \n12622  https://www.youtube.com/watch?v=OgafNvdpGHI           Narendra Modi   \n12623  https://www.youtube.com/watch?v=PWoF5xIEJXM            Harman Singh   \n\n                                          YT Creator URL  Is Ad  \\\n0      https://www.youtube.com/channel/UCSaA50dPTKM4X...  False   \n1                                                    NaN   True   \n2      https://www.youtube.com/channel/UCqeTj_QAnNlmt...  False   \n3      https://www.youtube.com/channel/UCqeTj_QAnNlmt...  False   \n4      https://www.youtube.com/channel/UCnz-ZXXER4jOv...  False   \n...                                                  ...    ...   \n12619  https://www.youtube.com/channel/UCgI8VzlDGsHCp...  False   \n12620  https://www.youtube.com/channel/UCBZQAxIn4Mxc2...  False   \n12621  https://www.youtube.com/channel/UCrwE8kVqtIUVU...  False   \n12622  https://www.youtube.com/channel/UC1NF71EwP41Vd...  False   \n12623  https://www.youtube.com/channel/UC0rpxsHBn1j3k...  False   \n\n                            Time  \n0      23 Jul 2023, 19:20:17 IST  \n1      23 Jul 2023, 19:17:10 IST  \n2      23 Jul 2023, 19:15:09 IST  \n3      23 Jul 2023, 19:15:00 IST  \n4      23 Jul 2023, 19:12:48 IST  \n...                          ...  \n12619   1 Aug 2020, 17:30:17 IST  \n12620   1 Aug 2020, 17:28:14 IST  \n12621   1 Aug 2020, 16:21:46 IST  \n12622   1 Aug 2020, 14:39:49 IST  \n12623  16 Jun 2020, 20:17:32 IST  \n\n[12624 rows x 6 columns]",
      "text/html": "<div>\n<style scoped>\n    .dataframe tbody tr th:only-of-type {\n        vertical-align: middle;\n    }\n\n    .dataframe tbody tr th {\n        vertical-align: top;\n    }\n\n    .dataframe thead th {\n        text-align: right;\n    }\n</style>\n<table border=\"1\" class=\"dataframe\">\n  <thead>\n    <tr style=\"text-align: right;\">\n      <th></th>\n      <th>Video Title</th>\n      <th>Video URL</th>\n      <th>Youtube Creator</th>\n      <th>YT Creator URL</th>\n      <th>Is Ad</th>\n      <th>Time</th>\n    </tr>\n  </thead>\n  <tbody>\n    <tr>\n      <th>0</th>\n      <td>How to Download your YouTube Data</td>\n      <td>https://www.youtube.com/watch?v=5CGgqJWh7wo</td>\n      <td>Buzz2day Tech</td>\n      <td>https://www.youtube.com/channel/UCSaA50dPTKM4X...</td>\n      <td>False</td>\n      <td>23 Jul 2023, 19:20:17 IST</td>\n    </tr>\n    <tr>\n      <th>1</th>\n      <td>Farhan Akhtar ke bol, Farhan Akhtar ki awaaz m...</td>\n      <td>https://www.youtube.com/watch?v=fP-WXYk1wVc</td>\n      <td>NaN</td>\n      <td>NaN</td>\n      <td>True</td>\n      <td>23 Jul 2023, 19:17:10 IST</td>\n    </tr>\n    <tr>\n      <th>2</th>\n      <td>🎙️ From Syria to Revolutionising Men's Groomin...</td>\n      <td>https://www.youtube.com/watch?v=ekcgdD_q7bU</td>\n      <td>Sonny Sangha</td>\n      <td>https://www.youtube.com/channel/UCqeTj_QAnNlmt...</td>\n      <td>False</td>\n      <td>23 Jul 2023, 19:15:09 IST</td>\n    </tr>\n    <tr>\n      <th>3</th>\n      <td>MOVING TO DUBAI | Vlog #0</td>\n      <td>https://www.youtube.com/watch?v=hP1V5wehdEU</td>\n      <td>Sonny Sangha</td>\n      <td>https://www.youtube.com/channel/UCqeTj_QAnNlmt...</td>\n      <td>False</td>\n      <td>23 Jul 2023, 19:15:00 IST</td>\n    </tr>\n    <tr>\n      <th>4</th>\n      <td>Python Project to Scrape YouTube using YouTube...</td>\n      <td>https://www.youtube.com/watch?v=SwSbnmqk3zY</td>\n      <td>techTFQ</td>\n      <td>https://www.youtube.com/channel/UCnz-ZXXER4jOv...</td>\n      <td>False</td>\n      <td>23 Jul 2023, 19:12:48 IST</td>\n    </tr>\n    <tr>\n      <th>...</th>\n      <td>...</td>\n      <td>...</td>\n      <td>...</td>\n      <td>...</td>\n      <td>...</td>\n      <td>...</td>\n    </tr>\n    <tr>\n      <th>12619</th>\n      <td>10$ Drum Vs 1000$ Drum</td>\n      <td>https://www.youtube.com/watch?v=FnY_R0ZUGGM</td>\n      <td>Big Marvel</td>\n      <td>https://www.youtube.com/channel/UCgI8VzlDGsHCp...</td>\n      <td>False</td>\n      <td>1 Aug 2020, 17:30:17 IST</td>\n    </tr>\n    <tr>\n      <th>12620</th>\n      <td>Kokila Ben | First World Problems | Dialogue w...</td>\n      <td>https://www.youtube.com/watch?v=SjhBeIz1tDI</td>\n      <td>Yashraj Mukhate</td>\n      <td>https://www.youtube.com/channel/UCBZQAxIn4Mxc2...</td>\n      <td>False</td>\n      <td>1 Aug 2020, 17:28:14 IST</td>\n    </tr>\n    <tr>\n      <th>12621</th>\n      <td>Mehul Choksi, Zakir Naik gave donation to Raji...</td>\n      <td>https://www.youtube.com/watch?v=9JbrEW1A0xY</td>\n      <td>Bharatiya Janata Party</td>\n      <td>https://www.youtube.com/channel/UCrwE8kVqtIUVU...</td>\n      <td>False</td>\n      <td>1 Aug 2020, 16:21:46 IST</td>\n    </tr>\n    <tr>\n      <th>12622</th>\n      <td>Prime Minister Narendra Modi's Mann Ki Baat wi...</td>\n      <td>https://www.youtube.com/watch?v=OgafNvdpGHI</td>\n      <td>Narendra Modi</td>\n      <td>https://www.youtube.com/channel/UC1NF71EwP41Vd...</td>\n      <td>False</td>\n      <td>1 Aug 2020, 14:39:49 IST</td>\n    </tr>\n    <tr>\n      <th>12623</th>\n      <td>2020 | The Worst Year | Depression Helpline by...</td>\n      <td>https://www.youtube.com/watch?v=PWoF5xIEJXM</td>\n      <td>Harman Singh</td>\n      <td>https://www.youtube.com/channel/UC0rpxsHBn1j3k...</td>\n      <td>False</td>\n      <td>16 Jun 2020, 20:17:32 IST</td>\n    </tr>\n  </tbody>\n</table>\n<p>12624 rows × 6 columns</p>\n</div>"
     },
     "execution_count": 7,
     "metadata": {},
     "output_type": "execute_result"
    }
   ],
   "source": [
    "history"
   ],
   "metadata": {
    "collapsed": false,
    "pycharm": {
     "name": "#%%\n"
    }
   }
  },
  {
   "cell_type": "code",
   "execution_count": 8,
   "outputs": [
    {
     "data": {
      "text/plain": "array(['23 Jul 2023, 19:20:17 IST', '23 Jul 2023, 19:17:10 IST',\n       '23 Jul 2023, 19:15:09 IST', ..., '1 Aug 2020, 16:21:46 IST',\n       '1 Aug 2020, 14:39:49 IST', '16 Jun 2020, 20:17:32 IST'],\n      dtype=object)"
     },
     "execution_count": 8,
     "metadata": {},
     "output_type": "execute_result"
    }
   ],
   "source": [
    "history['Time'].unique()"
   ],
   "metadata": {
    "collapsed": false,
    "pycharm": {
     "name": "#%%\n"
    }
   }
  },
  {
   "cell_type": "code",
   "execution_count": 9,
   "outputs": [
    {
     "data": {
      "text/plain": "                                             Video Title  \\\n5105                 Build an OTT Platform | Masterclass   \n1296   6.6 Type 2 Grammar | Context free grammar | Ch...   \n1879           Great photo taking in Phuket #photography   \n12361               Lime Soda Process of Water Softening   \n11511                     Me Holding Up Tears In School:   \n\n                                         Video URL   Youtube Creator  \\\n5105   https://www.youtube.com/watch?v=-ieOIZN5vuY               NaN   \n1296   https://www.youtube.com/watch?v=KPf1nGVLsns    KNOWLEDGE GATE   \n1879   https://www.youtube.com/watch?v=HXjqdNivN-U  Semyon Rezchikov   \n12361  https://www.youtube.com/watch?v=7vZsAGSqVKY    Dr. Neha Patni   \n11511  https://www.youtube.com/watch?v=I4FoOoeNz5g     Viral TikToks   \n\n                                          YT Creator URL  Is Ad  \\\n5105                                                 NaN   True   \n1296   https://www.youtube.com/channel/UCA6yfpYhy5sWM...  False   \n1879   https://www.youtube.com/channel/UCrCvnCuOe0zJ5...  False   \n12361  https://www.youtube.com/channel/UC_xCP3r27T85O...  False   \n11511  https://www.youtube.com/channel/UCqbyZbymyuvo1...  False   \n\n                             Time  \n5105   16 Sept 2022, 21:31:20 IST  \n1296     4 Apr 2023, 17:52:22 IST  \n1879    24 Feb 2023, 18:28:41 IST  \n12361   11 Apr 2021, 20:03:47 IST  \n11511   25 Nov 2021, 17:45:39 IST  ",
      "text/html": "<div>\n<style scoped>\n    .dataframe tbody tr th:only-of-type {\n        vertical-align: middle;\n    }\n\n    .dataframe tbody tr th {\n        vertical-align: top;\n    }\n\n    .dataframe thead th {\n        text-align: right;\n    }\n</style>\n<table border=\"1\" class=\"dataframe\">\n  <thead>\n    <tr style=\"text-align: right;\">\n      <th></th>\n      <th>Video Title</th>\n      <th>Video URL</th>\n      <th>Youtube Creator</th>\n      <th>YT Creator URL</th>\n      <th>Is Ad</th>\n      <th>Time</th>\n    </tr>\n  </thead>\n  <tbody>\n    <tr>\n      <th>5105</th>\n      <td>Build an OTT Platform | Masterclass</td>\n      <td>https://www.youtube.com/watch?v=-ieOIZN5vuY</td>\n      <td>NaN</td>\n      <td>NaN</td>\n      <td>True</td>\n      <td>16 Sept 2022, 21:31:20 IST</td>\n    </tr>\n    <tr>\n      <th>1296</th>\n      <td>6.6 Type 2 Grammar | Context free grammar | Ch...</td>\n      <td>https://www.youtube.com/watch?v=KPf1nGVLsns</td>\n      <td>KNOWLEDGE GATE</td>\n      <td>https://www.youtube.com/channel/UCA6yfpYhy5sWM...</td>\n      <td>False</td>\n      <td>4 Apr 2023, 17:52:22 IST</td>\n    </tr>\n    <tr>\n      <th>1879</th>\n      <td>Great photo taking in Phuket #photography</td>\n      <td>https://www.youtube.com/watch?v=HXjqdNivN-U</td>\n      <td>Semyon Rezchikov</td>\n      <td>https://www.youtube.com/channel/UCrCvnCuOe0zJ5...</td>\n      <td>False</td>\n      <td>24 Feb 2023, 18:28:41 IST</td>\n    </tr>\n    <tr>\n      <th>12361</th>\n      <td>Lime Soda Process of Water Softening</td>\n      <td>https://www.youtube.com/watch?v=7vZsAGSqVKY</td>\n      <td>Dr. Neha Patni</td>\n      <td>https://www.youtube.com/channel/UC_xCP3r27T85O...</td>\n      <td>False</td>\n      <td>11 Apr 2021, 20:03:47 IST</td>\n    </tr>\n    <tr>\n      <th>11511</th>\n      <td>Me Holding Up Tears In School:</td>\n      <td>https://www.youtube.com/watch?v=I4FoOoeNz5g</td>\n      <td>Viral TikToks</td>\n      <td>https://www.youtube.com/channel/UCqbyZbymyuvo1...</td>\n      <td>False</td>\n      <td>25 Nov 2021, 17:45:39 IST</td>\n    </tr>\n  </tbody>\n</table>\n</div>"
     },
     "execution_count": 9,
     "metadata": {},
     "output_type": "execute_result"
    }
   ],
   "source": [
    "history.sample(5)"
   ],
   "metadata": {
    "collapsed": false,
    "pycharm": {
     "name": "#%%\n"
    }
   }
  },
  {
   "cell_type": "code",
   "execution_count": 10,
   "outputs": [
    {
     "name": "stdout",
     "output_type": "stream",
     "text": [
      "<class 'pandas.core.frame.DataFrame'>\n",
      "RangeIndex: 12624 entries, 0 to 12623\n",
      "Data columns (total 6 columns):\n",
      " #   Column           Non-Null Count  Dtype \n",
      "---  ------           --------------  ----- \n",
      " 0   Video Title      12624 non-null  object\n",
      " 1   Video URL        12624 non-null  object\n",
      " 2   Youtube Creator  10908 non-null  object\n",
      " 3   YT Creator URL   10909 non-null  object\n",
      " 4   Is Ad            12624 non-null  bool  \n",
      " 5   Time             12624 non-null  object\n",
      "dtypes: bool(1), object(5)\n",
      "memory usage: 505.6+ KB\n"
     ]
    }
   ],
   "source": [
    "history.info()"
   ],
   "metadata": {
    "collapsed": false,
    "pycharm": {
     "name": "#%%\n"
    }
   }
  },
  {
   "cell_type": "code",
   "execution_count": 11,
   "outputs": [
    {
     "data": {
      "text/plain": "0        23 Jul 2023, 19:20:17 IST\n1        23 Jul 2023, 19:17:10 IST\n2        23 Jul 2023, 19:15:09 IST\n3        23 Jul 2023, 19:15:00 IST\n4        23 Jul 2023, 19:12:48 IST\n                   ...            \n12619     1 Aug 2020, 17:30:17 IST\n12620     1 Aug 2020, 17:28:14 IST\n12621     1 Aug 2020, 16:21:46 IST\n12622     1 Aug 2020, 14:39:49 IST\n12623    16 Jun 2020, 20:17:32 IST\nName: Time, Length: 12624, dtype: object"
     },
     "execution_count": 11,
     "metadata": {},
     "output_type": "execute_result"
    }
   ],
   "source": [
    "history['Time']"
   ],
   "metadata": {
    "collapsed": false,
    "pycharm": {
     "name": "#%%\n"
    }
   }
  },
  {
   "cell_type": "markdown",
   "source": [
    "Most Watched Video"
   ],
   "metadata": {
    "collapsed": false,
    "pycharm": {
     "name": "#%% md\n"
    }
   }
  },
  {
   "cell_type": "code",
   "execution_count": 12,
   "outputs": [
    {
     "name": "stdout",
     "output_type": "stream",
     "text": [
      "Most Common Video URL: https://www.youtube.com/watch?v=xGPjonxrUYc\n",
      "Video Title:  Hardwell Live at Ultra Music Festival Miami 2017\n",
      "Count: 31\n"
     ]
    }
   ],
   "source": [
    "video_counts = history['Video URL'].value_counts()\n",
    "\n",
    "most_common_video_url = video_counts.idxmax()\n",
    "highest_count = video_counts.max()\n",
    "most_common_video_rows = history[history['Video URL'] == most_common_video_url]\n",
    "\n",
    "print(\"Most Common Video URL:\", most_common_video_url)\n",
    "print(\"Video Title: \", most_common_video_rows.iloc[0]['Video Title'])\n",
    "print(\"Count:\", highest_count)"
   ],
   "metadata": {
    "collapsed": false,
    "pycharm": {
     "name": "#%%\n"
    }
   }
  },
  {
   "cell_type": "raw",
   "source": [
    "Top 5 most watched videos"
   ],
   "metadata": {
    "collapsed": false,
    "pycharm": {
     "name": "#%% raw\n"
    }
   }
  },
  {
   "cell_type": "code",
   "execution_count": 13,
   "outputs": [
    {
     "name": "stdout",
     "output_type": "stream",
     "text": [
      "         Youtube Creator                                        Video Title\n",
      "491             Hardwell   Hardwell Live at Ultra Music Festival Miami 2017\n",
      "512             Hardwell   Hardwell LIVE at Ultra Music Festival Miami 2018\n",
      "739      Nightblue Music  Warriyo - Mortals (feat. Laura Brehm) (ELPORT ...\n",
      "7214          Capital FM  Taylor Swift - ‘...Ready For It?’ (Live At Cap...\n",
      "8628  LeeandLie (AmaLee)  Sword Art Online - \"Crossing Field\" (REMIX) | ...\n"
     ]
    }
   ],
   "source": [
    "top_5_videos = video_counts.nlargest(5)\n",
    "\n",
    "top_5_rows = history[history['Video URL'].isin(top_5_videos.index)]\n",
    "\n",
    "unique_videos = top_5_rows.drop_duplicates(subset=['Video URL', 'Video Title', 'Youtube Creator'])\n",
    "\n",
    "print(unique_videos[['Youtube Creator', 'Video Title']])"
   ],
   "metadata": {
    "collapsed": false,
    "pycharm": {
     "name": "#%%\n"
    }
   }
  },
  {
   "cell_type": "markdown",
   "source": [
    "Most watched videos of yt creator"
   ],
   "metadata": {
    "collapsed": false,
    "pycharm": {
     "name": "#%% md\n"
    }
   }
  },
  {
   "cell_type": "code",
   "execution_count": 14,
   "outputs": [
    {
     "name": "stdout",
     "output_type": "stream",
     "text": [
      "Most watched yt creator: TheMermaidscales\n",
      "Video Count: 345\n"
     ]
    }
   ],
   "source": [
    "creator_counts = history['Youtube Creator'].value_counts()\n",
    "\n",
    "most_watched_yt_creator = creator_counts.idxmax()\n",
    "highest_count = creator_counts.max()\n",
    "\n",
    "print(\"Most watched yt creator:\", most_watched_yt_creator)\n",
    "print(\"Video Count:\", highest_count)"
   ],
   "metadata": {
    "collapsed": false,
    "pycharm": {
     "name": "#%%\n"
    }
   }
  },
  {
   "cell_type": "raw",
   "source": [
    "Top 5 creators"
   ],
   "metadata": {
    "collapsed": false,
    "pycharm": {
     "name": "#%% raw\n"
    }
   }
  },
  {
   "cell_type": "code",
   "execution_count": 15,
   "outputs": [
    {
     "name": "stdout",
     "output_type": "stream",
     "text": [
      "TheMermaidscales    345\n",
      "CodeWithHarry       337\n",
      "Gate Smashers       168\n",
      "Capital FM          119\n",
      "Aditya Verma        109\n",
      "Name: Youtube Creator, dtype: int64\n"
     ]
    }
   ],
   "source": [
    "top_5_creators = creator_counts.nlargest(5)\n",
    "\n",
    "\n",
    "print(top_5_creators)"
   ],
   "metadata": {
    "collapsed": false,
    "pycharm": {
     "name": "#%%\n"
    }
   }
  },
  {
   "cell_type": "code",
   "execution_count": 79,
   "outputs": [
    {
     "name": "stdout",
     "output_type": "stream",
     "text": [
      "     Youtube Creator                                        Video Title  \\\n",
      "0       Aditya Verma                           4 01knapsack memoization   \n",
      "1       Aditya Verma                   delete middle element of a stack   \n",
      "2       Aditya Verma                              13 unbounded knapsack   \n",
      "3       Aditya Verma     15  coin change problem maximum number of ways   \n",
      "4       Aditya Verma           19  longest common subsequence recursive   \n",
      "5         Capital FM  taylor swift  ready for it live at capitals ji...   \n",
      "6         Capital FM  zara larsson  lush life live at the summertime...   \n",
      "7         Capital FM  ariana grande  bang bang live at capitals summ...   \n",
      "8         Capital FM  taylor swift  you need to calm down live at ca...   \n",
      "9         Capital FM  zara larsson  lush life  live at capitals jing...   \n",
      "10     CodeWithHarry  component structure of our newsmonkey react ap...   \n",
      "11     CodeWithHarry  creating our first react app using createreact...   \n",
      "12     CodeWithHarry  fixing issues  wrapping up textutils  complete...   \n",
      "13     CodeWithHarry  hindi connecting to the database  web developm...   \n",
      "14     CodeWithHarry  project 2 setup  introduction to class based c...   \n",
      "15     Gate Smashers        l111 process vs threads in operating system   \n",
      "16     Gate Smashers  lec48 division operation in relational algebra...   \n",
      "17     Gate Smashers  lec79 why view serializability is used  introd...   \n",
      "18     Gate Smashers  l112 user level vs kernel level thread in oper...   \n",
      "19     Gate Smashers  l13 multiprogramming and multitasking operatin...   \n",
      "20  TheMermaidscales                                                      \n",
      "21  TheMermaidscales                    short girls when they are alone   \n",
      "22  TheMermaidscales                          when you pretend to sleep   \n",
      "23  TheMermaidscales                                                how   \n",
      "24  TheMermaidscales                       11yo me using correction pen   \n",
      "\n",
      "    Watch Count  \n",
      "0             3  \n",
      "1             3  \n",
      "2             2  \n",
      "3             2  \n",
      "4             2  \n",
      "5            25  \n",
      "6            17  \n",
      "7            16  \n",
      "8             9  \n",
      "9             9  \n",
      "10            4  \n",
      "11            4  \n",
      "12            4  \n",
      "13            4  \n",
      "14            4  \n",
      "15            3  \n",
      "16            3  \n",
      "17            3  \n",
      "18            2  \n",
      "19            2  \n",
      "20            2  \n",
      "21            2  \n",
      "22            2  \n",
      "23            1  \n",
      "24            1  \n"
     ]
    }
   ],
   "source": [
    "top_videos_by_top_creators = history[history['Youtube Creator'].isin(top_5_creators.index)]\n",
    "\n",
    "top_videos_by_creator_title = top_videos_by_top_creators.groupby(['Youtube Creator', 'Video Title']).size()\n",
    "\n",
    "top_videos_by_creator_title = top_videos_by_creator_title.reset_index(name='Watch Count')\n",
    "top_5_videos_by_creator = top_videos_by_creator_title.groupby('Youtube Creator').apply(lambda x: x.nlargest(5, 'Watch Count')).reset_index(drop=True)\n",
    "print(top_5_videos_by_creator)"
   ],
   "metadata": {
    "collapsed": false,
    "pycharm": {
     "name": "#%%\n"
    }
   }
  },
  {
   "cell_type": "code",
   "execution_count": 80,
   "outputs": [],
   "source": [
    "from nltk.tokenize import word_tokenize\n",
    "# import nltk\n",
    "from collections import Counter\n",
    "from nltk.corpus import stopwords"
   ],
   "metadata": {
    "collapsed": false,
    "pycharm": {
     "name": "#%%\n"
    }
   }
  },
  {
   "cell_type": "code",
   "execution_count": 81,
   "outputs": [],
   "source": [
    "# nltk.download('punkt')\n",
    "# nltk.download('stopwords')"
   ],
   "metadata": {
    "collapsed": false,
    "pycharm": {
     "name": "#%%\n"
    }
   }
  },
  {
   "cell_type": "code",
   "execution_count": 82,
   "outputs": [],
   "source": [
    "\n",
    "# Convert the text column to lowercase\n",
    "history['Video Title'] = history['Video Title'].str.lower()\n",
    "\n",
    "keywords = history['Video Title'].apply(word_tokenize)\n",
    "\n",
    "stop_words = set(stopwords.words('english'))"
   ],
   "metadata": {
    "collapsed": false,
    "pycharm": {
     "name": "#%%\n"
    }
   }
  },
  {
   "cell_type": "code",
   "execution_count": 83,
   "outputs": [
    {
     "data": {
      "text/plain": "0                 [how, to, download, your, youtube, data]\n1        [farhan, akhtar, ke, bol, farhan, akhtar, ki, ...\n2        [from, syria, to, revolutionising, mens, groom...\n3                             [moving, to, dubai, vlog, 0]\n4        [python, project, to, scrape, youtube, using, ...\n                               ...                        \n12619                           [10, drum, vs, 1000, drum]\n12620    [kokila, ben, first, world, problems, dialogue...\n12621    [mehul, choksi, zakir, naik, gave, donation, t...\n12622    [prime, minister, narendra, modis, mann, ki, b...\n12623    [2020, the, worst, year, depression, helpline,...\nName: Video Title, Length: 12624, dtype: object"
     },
     "execution_count": 83,
     "metadata": {},
     "output_type": "execute_result"
    }
   ],
   "source": [
    "keywords"
   ],
   "metadata": {
    "collapsed": false,
    "pycharm": {
     "name": "#%%\n"
    }
   }
  },
  {
   "cell_type": "code",
   "execution_count": 84,
   "outputs": [],
   "source": [
    "all_keywords = [token for sublist in keywords for token in sublist if token not in stop_words]\n",
    "\n",
    "cnt = Counter(all_keywords)"
   ],
   "metadata": {
    "collapsed": false,
    "pycharm": {
     "name": "#%%\n"
    }
   }
  },
  {
   "cell_type": "code",
   "execution_count": 87,
   "outputs": [
    {
     "name": "stdout",
     "output_type": "stream",
     "text": [
      "Top 5 recurring topics in title: \n",
      "     Keyword  Count\n",
      "107   shorts   1613\n",
      "324    hindi    496\n",
      "108    anime    444\n",
      "96      live    432\n",
      "135  english    414\n"
     ]
    }
   ],
   "source": [
    "keywords_df = pd.DataFrame(cnt.items(), columns=['Keyword', 'Count'])\n",
    "\n",
    "\n",
    "keywords_df = keywords_df.sort_values(by='Count', ascending=False)\n",
    "\n",
    "print(\"Top 5 recurring topics in title: \")\n",
    "print(keywords_df.head(5))"
   ],
   "metadata": {
    "collapsed": false,
    "pycharm": {
     "name": "#%%\n"
    }
   }
  }
 ],
 "metadata": {
  "kernelspec": {
   "display_name": "Python 3",
   "language": "python",
   "name": "python3"
  },
  "language_info": {
   "codemirror_mode": {
    "name": "ipython",
    "version": 2
   },
   "file_extension": ".py",
   "mimetype": "text/x-python",
   "name": "python",
   "nbconvert_exporter": "python",
   "pygments_lexer": "ipython2",
   "version": "2.7.6"
  }
 },
 "nbformat": 4,
 "nbformat_minor": 0
}