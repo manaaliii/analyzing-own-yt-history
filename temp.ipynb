{
 "cells": [
  {
   "cell_type": "code",
   "execution_count": 1,
   "outputs": [],
   "source": [
    "import pandas as pd\n",
    "import re"
   ],
   "metadata": {
    "collapsed": false,
    "pycharm": {
     "name": "#%%\n"
    }
   }
  },
  {
   "cell_type": "code",
   "execution_count": 2,
   "outputs": [
    {
     "data": {
      "text/plain": "                                             Video Title  \\\n12112  Alan Walker - LIVE @ the Bergen Aquarium (Gold...   \n9353        Katy Perry - Firework (Official Music Video)   \n1672     four funny African Snails eat Pumpkin 😍 #shorts   \n7730   CSS Tutorial: Creating Transitions in CSS | We...   \n2351   Taarak Mehta Ka Ooltah Chashmah - Episode 555 ...   \n9749                            EMQX Cloud in 90 seconds   \n3598   Cheese Maggi Recipe | Street Style Cheesy Masa...   \n11039                    Why Edutainers Recommend Teuida   \n9384   #9 Django tutorials | Model View Template in D...   \n4495                                     Reality CHECK 😂   \n\n                                         Video URL      Youtube Creator  \\\n12112  https://www.youtube.com/watch?v=LZ2FKB30fsw          Alan Walker   \n9353   https://www.youtube.com/watch?v=QGJuMBdaqIw        KatyPerryVEVO   \n1672   https://www.youtube.com/watch?v=4TRvKPXbbv4       Весёлая Улитка   \n7730   https://www.youtube.com/watch?v=k4Dr0PJKidI        CodeWithHarry   \n2351   https://www.youtube.com/watch?v=psPQOlhfFs4             Sony SAB   \n9749   https://www.youtube.com/watch?v=0v6ZMBdqmIM                  NaN   \n3598   https://www.youtube.com/watch?v=kKEW8bgtGn0  The Terrace Kitchen   \n11039  https://www.youtube.com/watch?v=OxKoqMpll5M                  NaN   \n9384   https://www.youtube.com/watch?v=GGkFg52Ot5o              Telusko   \n4495   https://www.youtube.com/watch?v=BSYEWIBkm80     Victoria Pfeifer   \n\n                                          YT Creator URL  Is Ad  \\\n12112  https://www.youtube.com/channel/UCJrOtniJ0-NWz...  False   \n9353   https://www.youtube.com/channel/UC-8Q-hLdECwQm...  False   \n1672   https://www.youtube.com/channel/UC23zcaO_k99Jb...  False   \n7730   https://www.youtube.com/channel/UCeVMnSShP_Ivi...  False   \n2351   https://www.youtube.com/channel/UC6-F5tO8uklgE...  False   \n9749                                                 NaN   True   \n3598   https://www.youtube.com/channel/UC2bgPCeViczOg...  False   \n11039                                                NaN   True   \n9384   https://www.youtube.com/channel/UC59K-uG2A5ogw...  False   \n4495   https://www.youtube.com/channel/UCQBzn-XGeA4sq...  False   \n\n                            Time  \n12112  12 Jul 2021, 11:57:44 IST  \n9353   24 Apr 2022, 21:56:19 IST  \n1672    7 Mar 2023, 20:35:23 IST  \n7730   21 Jun 2022, 08:13:39 IST  \n2351   13 Dec 2022, 23:50:14 IST  \n9749   27 Mar 2022, 09:50:09 IST  \n3598   15 Oct 2022, 18:54:19 IST  \n11039   9 Feb 2022, 18:29:35 IST  \n9384   24 Apr 2022, 18:52:01 IST  \n4495    2 Oct 2022, 18:13:58 IST  ",
      "text/html": "<div>\n<style scoped>\n    .dataframe tbody tr th:only-of-type {\n        vertical-align: middle;\n    }\n\n    .dataframe tbody tr th {\n        vertical-align: top;\n    }\n\n    .dataframe thead th {\n        text-align: right;\n    }\n</style>\n<table border=\"1\" class=\"dataframe\">\n  <thead>\n    <tr style=\"text-align: right;\">\n      <th></th>\n      <th>Video Title</th>\n      <th>Video URL</th>\n      <th>Youtube Creator</th>\n      <th>YT Creator URL</th>\n      <th>Is Ad</th>\n      <th>Time</th>\n    </tr>\n  </thead>\n  <tbody>\n    <tr>\n      <th>12112</th>\n      <td>Alan Walker - LIVE @ the Bergen Aquarium (Gold...</td>\n      <td>https://www.youtube.com/watch?v=LZ2FKB30fsw</td>\n      <td>Alan Walker</td>\n      <td>https://www.youtube.com/channel/UCJrOtniJ0-NWz...</td>\n      <td>False</td>\n      <td>12 Jul 2021, 11:57:44 IST</td>\n    </tr>\n    <tr>\n      <th>9353</th>\n      <td>Katy Perry - Firework (Official Music Video)</td>\n      <td>https://www.youtube.com/watch?v=QGJuMBdaqIw</td>\n      <td>KatyPerryVEVO</td>\n      <td>https://www.youtube.com/channel/UC-8Q-hLdECwQm...</td>\n      <td>False</td>\n      <td>24 Apr 2022, 21:56:19 IST</td>\n    </tr>\n    <tr>\n      <th>1672</th>\n      <td>four funny African Snails eat Pumpkin 😍 #shorts</td>\n      <td>https://www.youtube.com/watch?v=4TRvKPXbbv4</td>\n      <td>Весёлая Улитка</td>\n      <td>https://www.youtube.com/channel/UC23zcaO_k99Jb...</td>\n      <td>False</td>\n      <td>7 Mar 2023, 20:35:23 IST</td>\n    </tr>\n    <tr>\n      <th>7730</th>\n      <td>CSS Tutorial: Creating Transitions in CSS | We...</td>\n      <td>https://www.youtube.com/watch?v=k4Dr0PJKidI</td>\n      <td>CodeWithHarry</td>\n      <td>https://www.youtube.com/channel/UCeVMnSShP_Ivi...</td>\n      <td>False</td>\n      <td>21 Jun 2022, 08:13:39 IST</td>\n    </tr>\n    <tr>\n      <th>2351</th>\n      <td>Taarak Mehta Ka Ooltah Chashmah - Episode 555 ...</td>\n      <td>https://www.youtube.com/watch?v=psPQOlhfFs4</td>\n      <td>Sony SAB</td>\n      <td>https://www.youtube.com/channel/UC6-F5tO8uklgE...</td>\n      <td>False</td>\n      <td>13 Dec 2022, 23:50:14 IST</td>\n    </tr>\n    <tr>\n      <th>9749</th>\n      <td>EMQX Cloud in 90 seconds</td>\n      <td>https://www.youtube.com/watch?v=0v6ZMBdqmIM</td>\n      <td>NaN</td>\n      <td>NaN</td>\n      <td>True</td>\n      <td>27 Mar 2022, 09:50:09 IST</td>\n    </tr>\n    <tr>\n      <th>3598</th>\n      <td>Cheese Maggi Recipe | Street Style Cheesy Masa...</td>\n      <td>https://www.youtube.com/watch?v=kKEW8bgtGn0</td>\n      <td>The Terrace Kitchen</td>\n      <td>https://www.youtube.com/channel/UC2bgPCeViczOg...</td>\n      <td>False</td>\n      <td>15 Oct 2022, 18:54:19 IST</td>\n    </tr>\n    <tr>\n      <th>11039</th>\n      <td>Why Edutainers Recommend Teuida</td>\n      <td>https://www.youtube.com/watch?v=OxKoqMpll5M</td>\n      <td>NaN</td>\n      <td>NaN</td>\n      <td>True</td>\n      <td>9 Feb 2022, 18:29:35 IST</td>\n    </tr>\n    <tr>\n      <th>9384</th>\n      <td>#9 Django tutorials | Model View Template in D...</td>\n      <td>https://www.youtube.com/watch?v=GGkFg52Ot5o</td>\n      <td>Telusko</td>\n      <td>https://www.youtube.com/channel/UC59K-uG2A5ogw...</td>\n      <td>False</td>\n      <td>24 Apr 2022, 18:52:01 IST</td>\n    </tr>\n    <tr>\n      <th>4495</th>\n      <td>Reality CHECK 😂</td>\n      <td>https://www.youtube.com/watch?v=BSYEWIBkm80</td>\n      <td>Victoria Pfeifer</td>\n      <td>https://www.youtube.com/channel/UCQBzn-XGeA4sq...</td>\n      <td>False</td>\n      <td>2 Oct 2022, 18:13:58 IST</td>\n    </tr>\n  </tbody>\n</table>\n</div>"
     },
     "execution_count": 2,
     "metadata": {},
     "output_type": "execute_result"
    }
   ],
   "source": [
    "\n",
    "pd.set_option('display.max_columns', None)\n",
    "\n",
    "data = pd.read_csv('trail1.csv')\n",
    "\n",
    "data.sample(10)"
   ],
   "metadata": {
    "collapsed": false,
    "pycharm": {
     "name": "#%%\n"
    }
   }
  },
  {
   "cell_type": "code",
   "execution_count": 3,
   "outputs": [
    {
     "name": "stdout",
     "output_type": "stream",
     "text": [
      "<class 'pandas.core.frame.DataFrame'>\n",
      "RangeIndex: 12624 entries, 0 to 12623\n",
      "Data columns (total 6 columns):\n",
      " #   Column           Non-Null Count  Dtype \n",
      "---  ------           --------------  ----- \n",
      " 0   Video Title      12624 non-null  object\n",
      " 1   Video URL        12624 non-null  object\n",
      " 2   Youtube Creator  10908 non-null  object\n",
      " 3   YT Creator URL   10909 non-null  object\n",
      " 4   Is Ad            12624 non-null  bool  \n",
      " 5   Time             12624 non-null  object\n",
      "dtypes: bool(1), object(5)\n",
      "memory usage: 505.6+ KB\n"
     ]
    }
   ],
   "source": [
    "data.info()"
   ],
   "metadata": {
    "collapsed": false,
    "pycharm": {
     "name": "#%%\n"
    }
   }
  },
  {
   "cell_type": "code",
   "execution_count": 4,
   "outputs": [
    {
     "data": {
      "text/plain": "                                            Video Title  \\\n8032   SPY×FAMILY - Preview of Episode 11 [English Sub]   \n9086                    Naruto Most Savage Moments pt 3   \n230   ALL TIMES Yuta Okkotsu is Mentioned & Shown in...   \n\n                                        Video URL Youtube Creator  \\\n8032  https://www.youtube.com/watch?v=FucuKckRJBI       Muse Asia   \n9086  https://www.youtube.com/watch?v=kz7bmllQ7Pg   ghetto Hokage   \n230   https://www.youtube.com/watch?v=7QcXcEkUJeQ            Niyn   \n\n                                         YT Creator URL  Is Ad  \\\n8032  https://www.youtube.com/channel/UCGbshtvS9t-8C...  False   \n9086  https://www.youtube.com/channel/UCHxjBf1utfcKN...  False   \n230   https://www.youtube.com/channel/UCoW8QeekquXlI...  False   \n\n                           Time  \n8032  15 Jun 2022, 15:01:45 IST  \n9086  10 May 2022, 14:41:18 IST  \n230   16 Jul 2023, 23:24:36 IST  ",
      "text/html": "<div>\n<style scoped>\n    .dataframe tbody tr th:only-of-type {\n        vertical-align: middle;\n    }\n\n    .dataframe tbody tr th {\n        vertical-align: top;\n    }\n\n    .dataframe thead th {\n        text-align: right;\n    }\n</style>\n<table border=\"1\" class=\"dataframe\">\n  <thead>\n    <tr style=\"text-align: right;\">\n      <th></th>\n      <th>Video Title</th>\n      <th>Video URL</th>\n      <th>Youtube Creator</th>\n      <th>YT Creator URL</th>\n      <th>Is Ad</th>\n      <th>Time</th>\n    </tr>\n  </thead>\n  <tbody>\n    <tr>\n      <th>8032</th>\n      <td>SPY×FAMILY - Preview of Episode 11 [English Sub]</td>\n      <td>https://www.youtube.com/watch?v=FucuKckRJBI</td>\n      <td>Muse Asia</td>\n      <td>https://www.youtube.com/channel/UCGbshtvS9t-8C...</td>\n      <td>False</td>\n      <td>15 Jun 2022, 15:01:45 IST</td>\n    </tr>\n    <tr>\n      <th>9086</th>\n      <td>Naruto Most Savage Moments pt 3</td>\n      <td>https://www.youtube.com/watch?v=kz7bmllQ7Pg</td>\n      <td>ghetto Hokage</td>\n      <td>https://www.youtube.com/channel/UCHxjBf1utfcKN...</td>\n      <td>False</td>\n      <td>10 May 2022, 14:41:18 IST</td>\n    </tr>\n    <tr>\n      <th>230</th>\n      <td>ALL TIMES Yuta Okkotsu is Mentioned &amp; Shown in...</td>\n      <td>https://www.youtube.com/watch?v=7QcXcEkUJeQ</td>\n      <td>Niyn</td>\n      <td>https://www.youtube.com/channel/UCoW8QeekquXlI...</td>\n      <td>False</td>\n      <td>16 Jul 2023, 23:24:36 IST</td>\n    </tr>\n  </tbody>\n</table>\n</div>"
     },
     "execution_count": 4,
     "metadata": {},
     "output_type": "execute_result"
    }
   ],
   "source": [
    "history = data.copy()\n",
    "history.sample(3)"
   ],
   "metadata": {
    "collapsed": false,
    "pycharm": {
     "name": "#%%\n"
    }
   }
  },
  {
   "cell_type": "markdown",
   "source": [
    "transforming time col ( as there are some other string present with time in cell)"
   ],
   "metadata": {
    "collapsed": false,
    "pycharm": {
     "name": "#%% md\n"
    }
   }
  },
  {
   "cell_type": "code",
   "execution_count": 5,
   "outputs": [],
   "source": [
    "def ref_time(st):\n",
    "    date_time_pattern = r'\\b(?:0?[1-9]|[1-2][0-9]|3[01])\\s(?:Jan|Feb|Mar|Apr|May|Jun|Jul|Aug|Sep|Oct|Nov|Dec)\\s\\d{4},\\s\\d{2}:\\d{2}:\\d{2}\\s\\w+\\b'\n",
    "    st = st.strip()\n",
    "    matches = re.findall(date_time_pattern, st)\n",
    "\n",
    "    if matches:\n",
    "        extracted_date_time = matches[0]\n",
    "        if extracted_date_time[0].isdigit() and extracted_date_time[1].isdigit():\n",
    "            if int(extracted_date_time[0:2]) > 30:\n",
    "                return extracted_date_time[1:]\n",
    "        return extracted_date_time\n",
    "\n",
    "    months = {\n",
    "        'Jan' : 31, 'Feb' : [28, 29], 'Mar': 31, 'Apr': 30, 'May': 31, 'Jun': 30, 'Aug':31, ' Se': 30, 'Oct':31, 'Nov':30, 'Dec':31}\n",
    "\n",
    "    if len(st) >= 26 and st[-26].isdigit():\n",
    "        if st[-25].isdigit():\n",
    "            cur = st[-24:-21]\n",
    "            date = int(st[-26:-24])\n",
    "            if cur != 'Feb':\n",
    "                if  date <= months[cur]:\n",
    "                        return st[-26:]\n",
    "            else:\n",
    "                yr = int(st[-18:-14])\n",
    "                if (yr % 100 == 0 and yr % 4 == 0) or (yr % 100 != 0 and yr % 4 == 0):\n",
    "                    if date <= months['Feb'][1]:\n",
    "                        return st[-26:]\n",
    "                else:\n",
    "                    return st[-26:]\n",
    "    return st[-25:]\n",
    "\n",
    "\n",
    "\n",
    "history['Time'] = history['Time'].apply(ref_time)"
   ],
   "metadata": {
    "collapsed": false,
    "pycharm": {
     "name": "#%%\n"
    }
   }
  },
  {
   "cell_type": "code",
   "execution_count": 6,
   "outputs": [
    {
     "data": {
      "text/plain": "                                             Video Title  \\\n0                      How to Download your YouTube Data   \n1      Farhan Akhtar ke bol, Farhan Akhtar ki awaaz m...   \n2      🎙️ From Syria to Revolutionising Men's Groomin...   \n3                              MOVING TO DUBAI | Vlog #0   \n4      Python Project to Scrape YouTube using YouTube...   \n...                                                  ...   \n12619                             10$ Drum Vs 1000$ Drum   \n12620  Kokila Ben | First World Problems | Dialogue w...   \n12621  Mehul Choksi, Zakir Naik gave donation to Raji...   \n12622  Prime Minister Narendra Modi's Mann Ki Baat wi...   \n12623  2020 | The Worst Year | Depression Helpline by...   \n\n                                         Video URL         Youtube Creator  \\\n0      https://www.youtube.com/watch?v=5CGgqJWh7wo           Buzz2day Tech   \n1      https://www.youtube.com/watch?v=fP-WXYk1wVc                     NaN   \n2      https://www.youtube.com/watch?v=ekcgdD_q7bU            Sonny Sangha   \n3      https://www.youtube.com/watch?v=hP1V5wehdEU            Sonny Sangha   \n4      https://www.youtube.com/watch?v=SwSbnmqk3zY                 techTFQ   \n...                                            ...                     ...   \n12619  https://www.youtube.com/watch?v=FnY_R0ZUGGM              Big Marvel   \n12620  https://www.youtube.com/watch?v=SjhBeIz1tDI         Yashraj Mukhate   \n12621  https://www.youtube.com/watch?v=9JbrEW1A0xY  Bharatiya Janata Party   \n12622  https://www.youtube.com/watch?v=OgafNvdpGHI           Narendra Modi   \n12623  https://www.youtube.com/watch?v=PWoF5xIEJXM            Harman Singh   \n\n                                          YT Creator URL  Is Ad  \\\n0      https://www.youtube.com/channel/UCSaA50dPTKM4X...  False   \n1                                                    NaN   True   \n2      https://www.youtube.com/channel/UCqeTj_QAnNlmt...  False   \n3      https://www.youtube.com/channel/UCqeTj_QAnNlmt...  False   \n4      https://www.youtube.com/channel/UCnz-ZXXER4jOv...  False   \n...                                                  ...    ...   \n12619  https://www.youtube.com/channel/UCgI8VzlDGsHCp...  False   \n12620  https://www.youtube.com/channel/UCBZQAxIn4Mxc2...  False   \n12621  https://www.youtube.com/channel/UCrwE8kVqtIUVU...  False   \n12622  https://www.youtube.com/channel/UC1NF71EwP41Vd...  False   \n12623  https://www.youtube.com/channel/UC0rpxsHBn1j3k...  False   \n\n                            Time  \n0      23 Jul 2023, 19:20:17 IST  \n1      23 Jul 2023, 19:17:10 IST  \n2      23 Jul 2023, 19:15:09 IST  \n3      23 Jul 2023, 19:15:00 IST  \n4      23 Jul 2023, 19:12:48 IST  \n...                          ...  \n12619   1 Aug 2020, 17:30:17 IST  \n12620   1 Aug 2020, 17:28:14 IST  \n12621   1 Aug 2020, 16:21:46 IST  \n12622   1 Aug 2020, 14:39:49 IST  \n12623  16 Jun 2020, 20:17:32 IST  \n\n[12624 rows x 6 columns]",
      "text/html": "<div>\n<style scoped>\n    .dataframe tbody tr th:only-of-type {\n        vertical-align: middle;\n    }\n\n    .dataframe tbody tr th {\n        vertical-align: top;\n    }\n\n    .dataframe thead th {\n        text-align: right;\n    }\n</style>\n<table border=\"1\" class=\"dataframe\">\n  <thead>\n    <tr style=\"text-align: right;\">\n      <th></th>\n      <th>Video Title</th>\n      <th>Video URL</th>\n      <th>Youtube Creator</th>\n      <th>YT Creator URL</th>\n      <th>Is Ad</th>\n      <th>Time</th>\n    </tr>\n  </thead>\n  <tbody>\n    <tr>\n      <th>0</th>\n      <td>How to Download your YouTube Data</td>\n      <td>https://www.youtube.com/watch?v=5CGgqJWh7wo</td>\n      <td>Buzz2day Tech</td>\n      <td>https://www.youtube.com/channel/UCSaA50dPTKM4X...</td>\n      <td>False</td>\n      <td>23 Jul 2023, 19:20:17 IST</td>\n    </tr>\n    <tr>\n      <th>1</th>\n      <td>Farhan Akhtar ke bol, Farhan Akhtar ki awaaz m...</td>\n      <td>https://www.youtube.com/watch?v=fP-WXYk1wVc</td>\n      <td>NaN</td>\n      <td>NaN</td>\n      <td>True</td>\n      <td>23 Jul 2023, 19:17:10 IST</td>\n    </tr>\n    <tr>\n      <th>2</th>\n      <td>🎙️ From Syria to Revolutionising Men's Groomin...</td>\n      <td>https://www.youtube.com/watch?v=ekcgdD_q7bU</td>\n      <td>Sonny Sangha</td>\n      <td>https://www.youtube.com/channel/UCqeTj_QAnNlmt...</td>\n      <td>False</td>\n      <td>23 Jul 2023, 19:15:09 IST</td>\n    </tr>\n    <tr>\n      <th>3</th>\n      <td>MOVING TO DUBAI | Vlog #0</td>\n      <td>https://www.youtube.com/watch?v=hP1V5wehdEU</td>\n      <td>Sonny Sangha</td>\n      <td>https://www.youtube.com/channel/UCqeTj_QAnNlmt...</td>\n      <td>False</td>\n      <td>23 Jul 2023, 19:15:00 IST</td>\n    </tr>\n    <tr>\n      <th>4</th>\n      <td>Python Project to Scrape YouTube using YouTube...</td>\n      <td>https://www.youtube.com/watch?v=SwSbnmqk3zY</td>\n      <td>techTFQ</td>\n      <td>https://www.youtube.com/channel/UCnz-ZXXER4jOv...</td>\n      <td>False</td>\n      <td>23 Jul 2023, 19:12:48 IST</td>\n    </tr>\n    <tr>\n      <th>...</th>\n      <td>...</td>\n      <td>...</td>\n      <td>...</td>\n      <td>...</td>\n      <td>...</td>\n      <td>...</td>\n    </tr>\n    <tr>\n      <th>12619</th>\n      <td>10$ Drum Vs 1000$ Drum</td>\n      <td>https://www.youtube.com/watch?v=FnY_R0ZUGGM</td>\n      <td>Big Marvel</td>\n      <td>https://www.youtube.com/channel/UCgI8VzlDGsHCp...</td>\n      <td>False</td>\n      <td>1 Aug 2020, 17:30:17 IST</td>\n    </tr>\n    <tr>\n      <th>12620</th>\n      <td>Kokila Ben | First World Problems | Dialogue w...</td>\n      <td>https://www.youtube.com/watch?v=SjhBeIz1tDI</td>\n      <td>Yashraj Mukhate</td>\n      <td>https://www.youtube.com/channel/UCBZQAxIn4Mxc2...</td>\n      <td>False</td>\n      <td>1 Aug 2020, 17:28:14 IST</td>\n    </tr>\n    <tr>\n      <th>12621</th>\n      <td>Mehul Choksi, Zakir Naik gave donation to Raji...</td>\n      <td>https://www.youtube.com/watch?v=9JbrEW1A0xY</td>\n      <td>Bharatiya Janata Party</td>\n      <td>https://www.youtube.com/channel/UCrwE8kVqtIUVU...</td>\n      <td>False</td>\n      <td>1 Aug 2020, 16:21:46 IST</td>\n    </tr>\n    <tr>\n      <th>12622</th>\n      <td>Prime Minister Narendra Modi's Mann Ki Baat wi...</td>\n      <td>https://www.youtube.com/watch?v=OgafNvdpGHI</td>\n      <td>Narendra Modi</td>\n      <td>https://www.youtube.com/channel/UC1NF71EwP41Vd...</td>\n      <td>False</td>\n      <td>1 Aug 2020, 14:39:49 IST</td>\n    </tr>\n    <tr>\n      <th>12623</th>\n      <td>2020 | The Worst Year | Depression Helpline by...</td>\n      <td>https://www.youtube.com/watch?v=PWoF5xIEJXM</td>\n      <td>Harman Singh</td>\n      <td>https://www.youtube.com/channel/UC0rpxsHBn1j3k...</td>\n      <td>False</td>\n      <td>16 Jun 2020, 20:17:32 IST</td>\n    </tr>\n  </tbody>\n</table>\n<p>12624 rows × 6 columns</p>\n</div>"
     },
     "execution_count": 6,
     "metadata": {},
     "output_type": "execute_result"
    }
   ],
   "source": [
    "history"
   ],
   "metadata": {
    "collapsed": false,
    "pycharm": {
     "name": "#%%\n"
    }
   }
  },
  {
   "cell_type": "code",
   "execution_count": 7,
   "outputs": [
    {
     "data": {
      "text/plain": "array(['23 Jul 2023, 19:20:17 IST', '23 Jul 2023, 19:17:10 IST',\n       '23 Jul 2023, 19:15:09 IST', ..., '1 Aug 2020, 16:21:46 IST',\n       '1 Aug 2020, 14:39:49 IST', '16 Jun 2020, 20:17:32 IST'],\n      dtype=object)"
     },
     "execution_count": 7,
     "metadata": {},
     "output_type": "execute_result"
    }
   ],
   "source": [
    "history['Time'].unique()"
   ],
   "metadata": {
    "collapsed": false,
    "pycharm": {
     "name": "#%%\n"
    }
   }
  },
  {
   "cell_type": "code",
   "execution_count": 8,
   "outputs": [
    {
     "data": {
      "text/plain": "                                            Video Title  \\\n9201                               Speed: Brave Browser   \n2040  Your beauty never ever scared me || Nezuko & T...   \n1187  Top Down parser | Types of Parser | Compiler D...   \n9026  He didn't knew that he was against the fastest...   \n5738                      CAUGHT PASSING NOTES IN CLASS   \n\n                                        Video URL Youtube Creator  \\\n9201  https://www.youtube.com/watch?v=F_wOwuko2NM             NaN   \n2040  https://www.youtube.com/watch?v=nesLzDRvzhw        imthesan   \n1187  https://www.youtube.com/watch?v=a4qdbCQJhyA    Education 4u   \n9026  https://www.youtube.com/watch?v=uc0ibnXRlCU    OTAKU VIBES    \n5738  https://www.youtube.com/watch?v=AhkzeWh0XBU    Will McIlroy   \n\n                                         YT Creator URL  Is Ad  \\\n9201                                                NaN   True   \n2040  https://www.youtube.com/channel/UCHr5gYvzISpll...  False   \n1187  https://www.youtube.com/channel/UCKS34cSMNaXay...  False   \n9026  https://www.youtube.com/channel/UCHOxj9OSRWRZ1...  False   \n5738  https://www.youtube.com/channel/UCbU-zdJ1JKg2Q...  False   \n\n                           Time  \n9201   8 May 2022, 18:53:26 IST  \n2040  27 Jan 2023, 21:40:48 IST  \n1187  21 Apr 2023, 18:50:49 IST  \n9026  12 May 2022, 09:10:05 IST  \n5738  17 Aug 2022, 14:26:37 IST  ",
      "text/html": "<div>\n<style scoped>\n    .dataframe tbody tr th:only-of-type {\n        vertical-align: middle;\n    }\n\n    .dataframe tbody tr th {\n        vertical-align: top;\n    }\n\n    .dataframe thead th {\n        text-align: right;\n    }\n</style>\n<table border=\"1\" class=\"dataframe\">\n  <thead>\n    <tr style=\"text-align: right;\">\n      <th></th>\n      <th>Video Title</th>\n      <th>Video URL</th>\n      <th>Youtube Creator</th>\n      <th>YT Creator URL</th>\n      <th>Is Ad</th>\n      <th>Time</th>\n    </tr>\n  </thead>\n  <tbody>\n    <tr>\n      <th>9201</th>\n      <td>Speed: Brave Browser</td>\n      <td>https://www.youtube.com/watch?v=F_wOwuko2NM</td>\n      <td>NaN</td>\n      <td>NaN</td>\n      <td>True</td>\n      <td>8 May 2022, 18:53:26 IST</td>\n    </tr>\n    <tr>\n      <th>2040</th>\n      <td>Your beauty never ever scared me || Nezuko &amp; T...</td>\n      <td>https://www.youtube.com/watch?v=nesLzDRvzhw</td>\n      <td>imthesan</td>\n      <td>https://www.youtube.com/channel/UCHr5gYvzISpll...</td>\n      <td>False</td>\n      <td>27 Jan 2023, 21:40:48 IST</td>\n    </tr>\n    <tr>\n      <th>1187</th>\n      <td>Top Down parser | Types of Parser | Compiler D...</td>\n      <td>https://www.youtube.com/watch?v=a4qdbCQJhyA</td>\n      <td>Education 4u</td>\n      <td>https://www.youtube.com/channel/UCKS34cSMNaXay...</td>\n      <td>False</td>\n      <td>21 Apr 2023, 18:50:49 IST</td>\n    </tr>\n    <tr>\n      <th>9026</th>\n      <td>He didn't knew that he was against the fastest...</td>\n      <td>https://www.youtube.com/watch?v=uc0ibnXRlCU</td>\n      <td>OTAKU VIBES</td>\n      <td>https://www.youtube.com/channel/UCHOxj9OSRWRZ1...</td>\n      <td>False</td>\n      <td>12 May 2022, 09:10:05 IST</td>\n    </tr>\n    <tr>\n      <th>5738</th>\n      <td>CAUGHT PASSING NOTES IN CLASS</td>\n      <td>https://www.youtube.com/watch?v=AhkzeWh0XBU</td>\n      <td>Will McIlroy</td>\n      <td>https://www.youtube.com/channel/UCbU-zdJ1JKg2Q...</td>\n      <td>False</td>\n      <td>17 Aug 2022, 14:26:37 IST</td>\n    </tr>\n  </tbody>\n</table>\n</div>"
     },
     "execution_count": 8,
     "metadata": {},
     "output_type": "execute_result"
    }
   ],
   "source": [
    "history.sample(5)"
   ],
   "metadata": {
    "collapsed": false,
    "pycharm": {
     "name": "#%%\n"
    }
   }
  },
  {
   "cell_type": "code",
   "execution_count": 9,
   "outputs": [
    {
     "name": "stdout",
     "output_type": "stream",
     "text": [
      "<class 'pandas.core.frame.DataFrame'>\n",
      "RangeIndex: 12624 entries, 0 to 12623\n",
      "Data columns (total 6 columns):\n",
      " #   Column           Non-Null Count  Dtype \n",
      "---  ------           --------------  ----- \n",
      " 0   Video Title      12624 non-null  object\n",
      " 1   Video URL        12624 non-null  object\n",
      " 2   Youtube Creator  10908 non-null  object\n",
      " 3   YT Creator URL   10909 non-null  object\n",
      " 4   Is Ad            12624 non-null  bool  \n",
      " 5   Time             12624 non-null  object\n",
      "dtypes: bool(1), object(5)\n",
      "memory usage: 505.6+ KB\n"
     ]
    }
   ],
   "source": [
    "history.info()"
   ],
   "metadata": {
    "collapsed": false,
    "pycharm": {
     "name": "#%%\n"
    }
   }
  },
  {
   "cell_type": "code",
   "execution_count": 11,
   "outputs": [
    {
     "data": {
      "text/plain": "0        23 Jul 2023, 19:20:17 IST\n1        23 Jul 2023, 19:17:10 IST\n2        23 Jul 2023, 19:15:09 IST\n3        23 Jul 2023, 19:15:00 IST\n4        23 Jul 2023, 19:12:48 IST\n                   ...            \n12619     1 Aug 2020, 17:30:17 IST\n12620     1 Aug 2020, 17:28:14 IST\n12621     1 Aug 2020, 16:21:46 IST\n12622     1 Aug 2020, 14:39:49 IST\n12623    16 Jun 2020, 20:17:32 IST\nName: Time, Length: 12624, dtype: object"
     },
     "execution_count": 11,
     "metadata": {},
     "output_type": "execute_result"
    }
   ],
   "source": [
    "history['Time']"
   ],
   "metadata": {
    "collapsed": false,
    "pycharm": {
     "name": "#%%\n"
    }
   }
  },
  {
   "cell_type": "markdown",
   "source": [
    "Most Watched Video"
   ],
   "metadata": {
    "collapsed": false,
    "pycharm": {
     "name": "#%% md\n"
    }
   }
  },
  {
   "cell_type": "code",
   "execution_count": 12,
   "outputs": [
    {
     "name": "stdout",
     "output_type": "stream",
     "text": [
      "Most Common Video URL: https://www.youtube.com/watch?v=xGPjonxrUYc\n",
      "Video Title:  Hardwell Live at Ultra Music Festival Miami 2017\n",
      "Count: 31\n"
     ]
    }
   ],
   "source": [
    "video_counts = history['Video URL'].value_counts()\n",
    "\n",
    "most_common_video_url = video_counts.idxmax()\n",
    "highest_count = video_counts.max()\n",
    "most_common_video_rows = history[history['Video URL'] == most_common_video_url]\n",
    "\n",
    "print(\"Most Common Video URL:\", most_common_video_url)\n",
    "print(\"Video Title: \", most_common_video_rows.iloc[0]['Video Title'])\n",
    "print(\"Count:\", highest_count)"
   ],
   "metadata": {
    "collapsed": false,
    "pycharm": {
     "name": "#%%\n"
    }
   }
  },
  {
   "cell_type": "raw",
   "source": [
    "Top 5 most watched videos"
   ],
   "metadata": {
    "collapsed": false,
    "pycharm": {
     "name": "#%% raw\n"
    }
   }
  },
  {
   "cell_type": "code",
   "execution_count": 13,
   "outputs": [
    {
     "name": "stdout",
     "output_type": "stream",
     "text": [
      "         Youtube Creator                                        Video Title\n",
      "491             Hardwell   Hardwell Live at Ultra Music Festival Miami 2017\n",
      "512             Hardwell   Hardwell LIVE at Ultra Music Festival Miami 2018\n",
      "739      Nightblue Music  Warriyo - Mortals (feat. Laura Brehm) (ELPORT ...\n",
      "7214          Capital FM  Taylor Swift - ‘...Ready For It?’ (Live At Cap...\n",
      "8628  LeeandLie (AmaLee)  Sword Art Online - \"Crossing Field\" (REMIX) | ...\n"
     ]
    }
   ],
   "source": [
    "top_5_videos = video_counts.nlargest(5)\n",
    "\n",
    "top_5_rows = history[history['Video URL'].isin(top_5_videos.index)]\n",
    "\n",
    "unique_videos = top_5_rows.drop_duplicates(subset=['Video URL', 'Video Title', 'Youtube Creator'])\n",
    "\n",
    "print(unique_videos[['Youtube Creator', 'Video Title']])"
   ],
   "metadata": {
    "collapsed": false,
    "pycharm": {
     "name": "#%%\n"
    }
   }
  },
  {
   "cell_type": "markdown",
   "source": [
    "Most watched videos of yt creator"
   ],
   "metadata": {
    "collapsed": false,
    "pycharm": {
     "name": "#%% md\n"
    }
   }
  },
  {
   "cell_type": "code",
   "execution_count": 14,
   "outputs": [
    {
     "name": "stdout",
     "output_type": "stream",
     "text": [
      "Most watched yt creator: TheMermaidscales\n",
      "Video Count: 345\n"
     ]
    }
   ],
   "source": [
    "creator_counts = history['Youtube Creator'].value_counts()\n",
    "\n",
    "most_watched_yt_creator = creator_counts.idxmax()\n",
    "highest_count = creator_counts.max()\n",
    "\n",
    "print(\"Most watched yt creator:\", most_watched_yt_creator)\n",
    "print(\"Video Count:\", highest_count)"
   ],
   "metadata": {
    "collapsed": false,
    "pycharm": {
     "name": "#%%\n"
    }
   }
  },
  {
   "cell_type": "raw",
   "source": [
    "Top 5 creators"
   ],
   "metadata": {
    "collapsed": false,
    "pycharm": {
     "name": "#%% raw\n"
    }
   }
  },
  {
   "cell_type": "code",
   "execution_count": 15,
   "outputs": [
    {
     "name": "stdout",
     "output_type": "stream",
     "text": [
      "TheMermaidscales    345\n",
      "CodeWithHarry       337\n",
      "Gate Smashers       168\n",
      "Capital FM          119\n",
      "Aditya Verma        109\n",
      "Name: Youtube Creator, dtype: int64\n"
     ]
    }
   ],
   "source": [
    "top_5_creators = creator_counts.nlargest(5)\n",
    "\n",
    "\n",
    "print(top_5_creators)"
   ],
   "metadata": {
    "collapsed": false,
    "pycharm": {
     "name": "#%%\n"
    }
   }
  },
  {
   "cell_type": "code",
   "execution_count": 16,
   "outputs": [
    {
     "name": "stdout",
     "output_type": "stream",
     "text": [
      "     Youtube Creator                                        Video Title  \\\n",
      "0       Aditya Verma                           4 01Knapsack Memoization   \n",
      "1       Aditya Verma                   Delete Middle Element of a Stack   \n",
      "2       Aditya Verma                              13 Unbounded Knapsack   \n",
      "3       Aditya Verma    15  Coin change problem: Maximum number of ways   \n",
      "4       Aditya Verma           19  Longest common subsequence Recursive   \n",
      "5         Capital FM  Taylor Swift - ‘...Ready For It?’ (Live At Cap...   \n",
      "6         Capital FM  Zara Larsson - 'Lush Life' (Live At The Summer...   \n",
      "7         Capital FM  Ariana Grande - 'Bang Bang' (Live At Capitals ...   \n",
      "8         Capital FM  Taylor Swift - You Need to Calm Down (Live at ...   \n",
      "9         Capital FM  Zara Larsson - ‘Lush Life’  (Live at Capital’s...   \n",
      "10     CodeWithHarry  Component Structure of our NewsMonkey React Ap...   \n",
      "11     CodeWithHarry  Creating our first react app using create-reac...   \n",
      "12     CodeWithHarry  Fixing Issues & Wrapping up TextUtils | Comple...   \n",
      "13     CodeWithHarry  Project 2 Setup + Introduction to Class based ...   \n",
      "14     CodeWithHarry  React Router Setup + Usage | Complete React Co...   \n",
      "15     Gate Smashers     L-1.11: Process Vs Threads in Operating System   \n",
      "16     Gate Smashers  Lec-48: Division Operation in Relational Algeb...   \n",
      "17     Gate Smashers  Lec-79: Why View Serializability is Used | Int...   \n",
      "18     Gate Smashers  L-1.12: User Level Vs Kernel Level Thread in O...   \n",
      "19     Gate Smashers  L-1.3: Multiprogramming and Multitasking Opera...   \n",
      "20  TheMermaidscales                    Short girls when they are alone   \n",
      "21  TheMermaidscales                          When you pretend to sleep   \n",
      "22  TheMermaidscales                     *Final destination flashbacks*   \n",
      "23  TheMermaidscales                                                  .   \n",
      "24  TheMermaidscales                       11yo me using correction pen   \n",
      "\n",
      "    Watch Count  \n",
      "0             3  \n",
      "1             3  \n",
      "2             2  \n",
      "3             2  \n",
      "4             2  \n",
      "5            25  \n",
      "6            17  \n",
      "7            16  \n",
      "8             9  \n",
      "9             9  \n",
      "10            4  \n",
      "11            4  \n",
      "12            4  \n",
      "13            4  \n",
      "14            4  \n",
      "15            3  \n",
      "16            3  \n",
      "17            3  \n",
      "18            2  \n",
      "19            2  \n",
      "20            2  \n",
      "21            2  \n",
      "22            1  \n",
      "23            1  \n",
      "24            1  \n"
     ]
    }
   ],
   "source": [
    "top_videos_by_top_creators = history[history['Youtube Creator'].isin(top_5_creators.index)]\n",
    "\n",
    "top_videos_by_creator_title = top_videos_by_top_creators.groupby(['Youtube Creator', 'Video Title']).size()\n",
    "\n",
    "top_videos_by_creator_title = top_videos_by_creator_title.reset_index(name='Watch Count')\n",
    "top_5_videos_by_creator = top_videos_by_creator_title.groupby('Youtube Creator').apply(lambda x: x.nlargest(5, 'Watch Count')).reset_index(drop=True)\n",
    "print(top_5_videos_by_creator)"
   ],
   "metadata": {
    "collapsed": false,
    "pycharm": {
     "name": "#%%\n"
    }
   }
  },
  {
   "cell_type": "code",
   "execution_count": 16,
   "outputs": [],
   "source": [],
   "metadata": {
    "collapsed": false,
    "pycharm": {
     "name": "#%%\n"
    }
   }
  },
  {
   "cell_type": "code",
   "execution_count": null,
   "outputs": [],
   "source": [],
   "metadata": {
    "collapsed": false,
    "pycharm": {
     "name": "#%%\n"
    }
   }
  }
 ],
 "metadata": {
  "kernelspec": {
   "display_name": "Python 3",
   "language": "python",
   "name": "python3"
  },
  "language_info": {
   "codemirror_mode": {
    "name": "ipython",
    "version": 2
   },
   "file_extension": ".py",
   "mimetype": "text/x-python",
   "name": "python",
   "nbconvert_exporter": "python",
   "pygments_lexer": "ipython2",
   "version": "2.7.6"
  }
 },
 "nbformat": 4,
 "nbformat_minor": 0
}